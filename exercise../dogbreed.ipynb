{
  "nbformat": 4,
  "nbformat_minor": 0,
  "metadata": {
    "colab": {
      "name": "dogbreed",
      "version": "0.3.2",
      "views": {},
      "default_view": {},
      "provenance": [],
      "collapsed_sections": [],
      "toc_visible": true
    },
    "kernelspec": {
      "name": "python3",
      "display_name": "Python 3"
    },
    "accelerator": "GPU"
  },
  "cells": [
    {
      "metadata": {
        "id": "PKrQvzetQwAB",
        "colab_type": "code",
        "colab": {
          "autoexec": {
            "startup": false,
            "wait_interval": 0
          },
          "output_extras": [
            {
              "item_id": 3
            }
          ],
          "base_uri": "https://localhost:8080/",
          "height": 1737
        },
        "outputId": "29ce61df-58dd-4938-c29c-e5f838a8b03a",
        "executionInfo": {
          "status": "ok",
          "timestamp": 1518724954756,
          "user_tz": -330,
          "elapsed": 3113,
          "user": {
            "displayName": "Pursh manipal",
            "photoUrl": "//lh6.googleusercontent.com/-2tWDU08uTgw/AAAAAAAAAAI/AAAAAAAACnU/JgMeUOGKZeM/s50-c-k-no/photo.jpg",
            "userId": "113752929865705600262"
          }
        }
      },
      "cell_type": "code",
      "source": [
        "!pip install fastai "
      ],
      "execution_count": 204,
      "outputs": [
        {
          "output_type": "stream",
          "text": [
            "Requirement already satisfied: fastai in /usr/local/lib/python3.6/dist-packages\n",
            "Requirement already satisfied: pandocfilters in /usr/local/lib/python3.6/dist-packages (from fastai)\n",
            "Requirement already satisfied: tornado in /usr/local/lib/python3.6/dist-packages (from fastai)\n",
            "Requirement already satisfied: wcwidth in /usr/local/lib/python3.6/dist-packages (from fastai)\n",
            "Requirement already satisfied: jsonschema in /usr/local/lib/python3.6/dist-packages (from fastai)\n",
            "Requirement already satisfied: jupyter-core in /usr/local/lib/python3.6/dist-packages (from fastai)\n",
            "Requirement already satisfied: seaborn in /usr/local/lib/python3.6/dist-packages (from fastai)\n",
            "Requirement already satisfied: jupyter-console in /usr/local/lib/python3.6/dist-packages (from fastai)\n",
            "Requirement already satisfied: numpy in /usr/local/lib/python3.6/dist-packages (from fastai)\n",
            "Requirement already satisfied: pyparsing in /usr/local/lib/python3.6/dist-packages (from fastai)\n",
            "Requirement already satisfied: torchtext in /usr/local/lib/python3.6/dist-packages (from fastai)\n",
            "Requirement already satisfied: pyzmq in /usr/local/lib/python3.6/dist-packages (from fastai)\n",
            "Requirement already satisfied: pandas in /usr/local/lib/python3.6/dist-packages (from fastai)\n",
            "Requirement already satisfied: plotnine in /usr/local/lib/python3.6/dist-packages (from fastai)\n",
            "Requirement already satisfied: pexpect in /usr/local/lib/python3.6/dist-packages (from fastai)\n",
            "Requirement already satisfied: ipython in /usr/local/lib/python3.6/dist-packages (from fastai)\n",
            "Requirement already satisfied: python-dateutil in /usr/local/lib/python3.6/dist-packages (from fastai)\n",
            "Requirement already satisfied: Jinja2 in /usr/local/lib/python3.6/dist-packages (from fastai)\n",
            "Requirement already satisfied: ipython-genutils in /usr/local/lib/python3.6/dist-packages (from fastai)\n",
            "Requirement already satisfied: qtconsole in /usr/local/lib/python3.6/dist-packages (from fastai)\n",
            "Requirement already satisfied: pandas-summary in /usr/local/lib/python3.6/dist-packages (from fastai)\n",
            "Requirement already satisfied: awscli in /usr/local/lib/python3.6/dist-packages (from fastai)\n",
            "Requirement already satisfied: pytz in /usr/local/lib/python3.6/dist-packages (from fastai)\n",
            "Requirement already satisfied: terminado in /usr/local/lib/python3.6/dist-packages (from fastai)\n",
            "Requirement already satisfied: bcolz in /usr/local/lib/python3.6/dist-packages (from fastai)\n",
            "Requirement already satisfied: mistune in /usr/local/lib/python3.6/dist-packages (from fastai)\n",
            "Requirement already satisfied: kaggle-cli in /usr/local/lib/python3.6/dist-packages (from fastai)\n",
            "Requirement already satisfied: cycler in /usr/local/lib/python3.6/dist-packages (from fastai)\n",
            "Requirement already satisfied: ipywidgets in /usr/local/lib/python3.6/dist-packages (from fastai)\n",
            "Requirement already satisfied: jupyter-client in /usr/local/lib/python3.6/dist-packages (from fastai)\n",
            "Requirement already satisfied: ipykernel in /usr/local/lib/python3.6/dist-packages (from fastai)\n",
            "Requirement already satisfied: olefile in /usr/local/lib/python3.6/dist-packages (from fastai)\n",
            "Requirement already satisfied: scipy in /usr/local/lib/python3.6/dist-packages (from fastai)\n",
            "Requirement already satisfied: widgetsnbextension in /usr/local/lib/python3.6/dist-packages (from fastai)\n",
            "Requirement already satisfied: sklearn-pandas in /usr/local/lib/python3.6/dist-packages (from fastai)\n",
            "Requirement already satisfied: bleach in /usr/local/lib/python3.6/dist-packages (from fastai)\n",
            "Requirement already satisfied: graphviz in /usr/local/lib/python3.6/dist-packages (from fastai)\n",
            "Requirement already satisfied: simplegeneric in /usr/local/lib/python3.6/dist-packages (from fastai)\n",
            "Requirement already satisfied: opencv-python in /usr/local/lib/python3.6/dist-packages (from fastai)\n",
            "Requirement already satisfied: notebook in /usr/local/lib/python3.6/dist-packages (from fastai)\n",
            "Requirement already satisfied: PyYAML in /usr/local/lib/python3.6/dist-packages (from fastai)\n",
            "Requirement already satisfied: jedi in /usr/local/lib/python3.6/dist-packages (from fastai)\n",
            "Requirement already satisfied: prompt-toolkit in /usr/local/lib/python3.6/dist-packages (from fastai)\n",
            "Requirement already satisfied: six in /usr/local/lib/python3.6/dist-packages (from fastai)\n",
            "Requirement already satisfied: feather-format in /usr/local/lib/python3.6/dist-packages (from fastai)\n",
            "Requirement already satisfied: pickleshare in /usr/local/lib/python3.6/dist-packages (from fastai)\n",
            "Requirement already satisfied: Pillow in /usr/local/lib/python3.6/dist-packages (from fastai)\n",
            "Requirement already satisfied: jupyter-contrib-nbextensions in /usr/local/lib/python3.6/dist-packages (from fastai)\n",
            "Requirement already satisfied: matplotlib in /usr/local/lib/python3.6/dist-packages (from fastai)\n",
            "Requirement already satisfied: traitlets in /usr/local/lib/python3.6/dist-packages (from fastai)\n",
            "Requirement already satisfied: webencodings in /usr/local/lib/python3.6/dist-packages (from fastai)\n",
            "Requirement already satisfied: entrypoints in /usr/local/lib/python3.6/dist-packages (from fastai)\n",
            "Requirement already satisfied: certifi in /usr/local/lib/python3.6/dist-packages (from fastai)\n",
            "Requirement already satisfied: testpath in /usr/local/lib/python3.6/dist-packages (from fastai)\n",
            "Requirement already satisfied: nbformat in /usr/local/lib/python3.6/dist-packages (from fastai)\n",
            "Requirement already satisfied: Pygments in /usr/local/lib/python3.6/dist-packages (from fastai)\n",
            "Requirement already satisfied: decorator in /usr/local/lib/python3.6/dist-packages (from fastai)\n",
            "Requirement already satisfied: ptyprocess in /usr/local/lib/python3.6/dist-packages (from fastai)\n",
            "Requirement already satisfied: MarkupSafe in /usr/local/lib/python3.6/dist-packages (from fastai)\n",
            "Requirement already satisfied: tqdm in /usr/local/lib/python3.6/dist-packages (from fastai)\n",
            "Requirement already satisfied: isoweek in /usr/local/lib/python3.6/dist-packages (from fastai)\n",
            "Requirement already satisfied: jupyter in /usr/local/lib/python3.6/dist-packages (from fastai)\n",
            "Requirement already satisfied: nbconvert in /usr/local/lib/python3.6/dist-packages (from fastai)\n",
            "Requirement already satisfied: html5lib in /usr/local/lib/python3.6/dist-packages (from fastai)\n",
            "Requirement already satisfied: requests in /usr/local/lib/python3.6/dist-packages (from torchtext->fastai)\n",
            "Requirement already satisfied: statsmodels>=0.8.0 in /usr/local/lib/python3.6/dist-packages (from plotnine->fastai)\n",
            "Requirement already satisfied: patsy>=0.4.1 in /usr/local/lib/python3.6/dist-packages (from plotnine->fastai)\n",
            "Requirement already satisfied: mizani>=0.4.1 in /usr/local/lib/python3.6/dist-packages (from plotnine->fastai)\n",
            "Requirement already satisfied: setuptools>=18.5 in /usr/lib/python3/dist-packages (from ipython->fastai)\n",
            "Requirement already satisfied: colorama<=0.3.7,>=0.2.5 in /usr/local/lib/python3.6/dist-packages (from awscli->fastai)\n",
            "Requirement already satisfied: botocore==1.8.43 in /usr/local/lib/python3.6/dist-packages (from awscli->fastai)\n",
            "Requirement already satisfied: s3transfer<0.2.0,>=0.1.12 in /usr/local/lib/python3.6/dist-packages (from awscli->fastai)\n",
            "Requirement already satisfied: docutils>=0.10 in /usr/local/lib/python3.6/dist-packages (from awscli->fastai)\n",
            "Requirement already satisfied: rsa<=3.5.0,>=3.1.2 in /usr/local/lib/python3.6/dist-packages (from awscli->fastai)\n",
            "Requirement already satisfied: cssselect<1.1,>=1.0.1 in /usr/local/lib/python3.6/dist-packages (from kaggle-cli->fastai)\n",
            "Requirement already satisfied: beautifulsoup4<4.7,>=4.6.0 in /usr/local/lib/python3.6/dist-packages (from kaggle-cli->fastai)\n",
            "Requirement already satisfied: configparser in /usr/local/lib/python3.6/dist-packages (from kaggle-cli->fastai)\n",
            "Requirement already satisfied: cliff<2.9,>=2.8.0 in /usr/local/lib/python3.6/dist-packages (from kaggle-cli->fastai)\n",
            "Requirement already satisfied: progressbar2<3.35,>=3.34.3 in /usr/local/lib/python3.6/dist-packages (from kaggle-cli->fastai)\n",
            "Requirement already satisfied: MechanicalSoup<0.9,>=0.7.0 in /usr/local/lib/python3.6/dist-packages (from kaggle-cli->fastai)\n",
            "Requirement already satisfied: lxml<4.1,>=4.0.0 in /usr/local/lib/python3.6/dist-packages (from kaggle-cli->fastai)\n",
            "Requirement already satisfied: scikit-learn>=0.15.0 in /usr/local/lib/python3.6/dist-packages (from sklearn-pandas->fastai)\n",
            "Requirement already satisfied: parso==0.1.1 in /usr/local/lib/python3.6/dist-packages (from jedi->fastai)\n",
            "Requirement already satisfied: pyarrow>=0.4.0 in /usr/local/lib/python3.6/dist-packages (from feather-format->fastai)\n",
            "Requirement already satisfied: jupyter-latex-envs>=1.3.8 in /usr/local/lib/python3.6/dist-packages (from jupyter-contrib-nbextensions->fastai)\n",
            "Requirement already satisfied: jupyter-nbextensions-configurator>=0.4.0 in /usr/local/lib/python3.6/dist-packages (from jupyter-contrib-nbextensions->fastai)\n",
            "Requirement already satisfied: jupyter-highlight-selected-word>=0.0.10 in /usr/local/lib/python3.6/dist-packages (from jupyter-contrib-nbextensions->fastai)\n",
            "Requirement already satisfied: jupyter-contrib-core>=0.3.3 in /usr/local/lib/python3.6/dist-packages (from jupyter-contrib-nbextensions->fastai)\n",
            "Requirement already satisfied: urllib3<1.23,>=1.21.1 in /usr/local/lib/python3.6/dist-packages (from requests->torchtext->fastai)\n",
            "Requirement already satisfied: idna<2.7,>=2.5 in /usr/local/lib/python3.6/dist-packages (from requests->torchtext->fastai)\n",
            "Requirement already satisfied: chardet<3.1.0,>=3.0.2 in /usr/local/lib/python3.6/dist-packages (from requests->torchtext->fastai)\n",
            "Requirement already satisfied: palettable in /usr/local/lib/python3.6/dist-packages (from mizani>=0.4.1->plotnine->fastai)\n",
            "Requirement already satisfied: jmespath<1.0.0,>=0.7.1 in /usr/local/lib/python3.6/dist-packages (from botocore==1.8.43->awscli->fastai)\n",
            "Requirement already satisfied: pyasn1>=0.1.3 in /usr/local/lib/python3.6/dist-packages (from rsa<=3.5.0,>=3.1.2->awscli->fastai)\n",
            "Requirement already satisfied: pbr!=2.1.0,>=2.0.0 in /usr/local/lib/python3.6/dist-packages (from cliff<2.9,>=2.8.0->kaggle-cli->fastai)\n",
            "Requirement already satisfied: stevedore>=1.20.0 in /usr/local/lib/python3.6/dist-packages (from cliff<2.9,>=2.8.0->kaggle-cli->fastai)\n",
            "Requirement already satisfied: cmd2>=0.6.7 in /usr/local/lib/python3.6/dist-packages (from cliff<2.9,>=2.8.0->kaggle-cli->fastai)\n",
            "Requirement already satisfied: PrettyTable<0.8,>=0.7.1 in /usr/local/lib/python3.6/dist-packages (from cliff<2.9,>=2.8.0->kaggle-cli->fastai)\n",
            "Requirement already satisfied: python-utils>=2.1.0 in /usr/local/lib/python3.6/dist-packages (from progressbar2<3.35,>=3.34.3->kaggle-cli->fastai)\n",
            "Requirement already satisfied: pyperclip in /usr/local/lib/python3.6/dist-packages (from cmd2>=0.6.7->cliff<2.9,>=2.8.0->kaggle-cli->fastai)\n"
          ],
          "name": "stdout"
        }
      ]
    },
    {
      "metadata": {
        "id": "po-gW7o_DlGH",
        "colab_type": "code",
        "colab": {
          "autoexec": {
            "startup": false,
            "wait_interval": 0
          },
          "output_extras": [
            {
              "item_id": 4
            }
          ],
          "base_uri": "https://localhost:8080/",
          "height": 187
        },
        "outputId": "3301c096-cacf-4f12-ef18-2b992a39db88",
        "executionInfo": {
          "status": "ok",
          "timestamp": 1518725265899,
          "user_tz": -330,
          "elapsed": 5859,
          "user": {
            "displayName": "Pursh manipal",
            "photoUrl": "//lh6.googleusercontent.com/-2tWDU08uTgw/AAAAAAAAAAI/AAAAAAAACnU/JgMeUOGKZeM/s50-c-k-no/photo.jpg",
            "userId": "113752929865705600262"
          }
        }
      },
      "cell_type": "code",
      "source": [
        "!pip install Pillow==4.0.0\n",
        "!pip install PIL\n",
        "!pip install image\n",
        "import PIL.image"
      ],
      "execution_count": 255,
      "outputs": [
        {
          "output_type": "stream",
          "text": [
            "Requirement already satisfied: Pillow in /usr/local/lib/python3.6/dist-packages\r\n",
            "Requirement already satisfied: olefile in /usr/local/lib/python3.6/dist-packages (from Pillow)\n",
            "Collecting PIL\n",
            "\u001b[31m  Could not find a version that satisfies the requirement PIL (from versions: )\u001b[0m\n",
            "\u001b[31mNo matching distribution found for PIL\u001b[0m\n",
            "Requirement already satisfied: Image in /usr/local/lib/python3.6/dist-packages\n",
            "Requirement already satisfied: pillow in /usr/local/lib/python3.6/dist-packages (from Image)\n",
            "Requirement already satisfied: django in /usr/local/lib/python3.6/dist-packages (from Image)\n",
            "Requirement already satisfied: olefile in /usr/local/lib/python3.6/dist-packages (from pillow->Image)\n",
            "Requirement already satisfied: pytz in /usr/local/lib/python3.6/dist-packages (from django->Image)\n"
          ],
          "name": "stdout"
        }
      ]
    },
    {
      "metadata": {
        "id": "wH7WlZVwBKFh",
        "colab_type": "code",
        "colab": {
          "autoexec": {
            "startup": false,
            "wait_interval": 0
          },
          "output_extras": [
            {
              "item_id": 1
            }
          ],
          "base_uri": "https://localhost:8080/",
          "height": 34
        },
        "outputId": "18c0687d-057a-408b-b818-9953b870a8ca",
        "executionInfo": {
          "status": "ok",
          "timestamp": 1518725266736,
          "user_tz": -330,
          "elapsed": 785,
          "user": {
            "displayName": "Pursh manipal",
            "photoUrl": "//lh6.googleusercontent.com/-2tWDU08uTgw/AAAAAAAAAAI/AAAAAAAACnU/JgMeUOGKZeM/s50-c-k-no/photo.jpg",
            "userId": "113752929865705600262"
          }
        }
      },
      "cell_type": "code",
      "source": [
        "cd"
      ],
      "execution_count": 256,
      "outputs": [
        {
          "output_type": "stream",
          "text": [
            "/content\n"
          ],
          "name": "stdout"
        }
      ]
    },
    {
      "metadata": {
        "id": "DgLapPxOOipO",
        "colab_type": "code",
        "colab": {
          "autoexec": {
            "startup": false,
            "wait_interval": 0
          }
        }
      },
      "cell_type": "code",
      "source": [
        "#!git clone https://github.com/fastai/fastai.git"
      ],
      "execution_count": 0,
      "outputs": []
    },
    {
      "metadata": {
        "id": "xjCMwQysCB8t",
        "colab_type": "code",
        "colab": {
          "autoexec": {
            "startup": false,
            "wait_interval": 0
          }
        }
      },
      "cell_type": "code",
      "source": [
        "from os import path\n",
        "from wheel.pep425tags import get_abbr_impl, get_impl_ver, get_abi_tag\n",
        "platform = '{}{}-{}'.format(get_abbr_impl(), get_impl_ver(), get_abi_tag())\n",
        "\n",
        "accelerator = 'cu80' if path.exists('/opt/bin/nvidia-smi') else 'cpu'\n"
      ],
      "execution_count": 0,
      "outputs": []
    },
    {
      "metadata": {
        "id": "vqcFHz8NCHFx",
        "colab_type": "code",
        "colab": {
          "autoexec": {
            "startup": false,
            "wait_interval": 0
          }
        }
      },
      "cell_type": "code",
      "source": [
        "!pip install -q http://download.pytorch.org/whl/{accelerator}/torch-0.3.0.post4-{platform}-linux_x86_64.whl torchvision\n",
        "import torch\n"
      ],
      "execution_count": 0,
      "outputs": []
    },
    {
      "metadata": {
        "id": "GFNzNa149-ot",
        "colab_type": "code",
        "colab": {
          "autoexec": {
            "startup": false,
            "wait_interval": 0
          },
          "output_extras": [
            {
              "item_id": 2
            }
          ],
          "base_uri": "https://localhost:8080/",
          "height": 2689
        },
        "outputId": "83a84540-ebc4-4341-ac9a-e165980ebfff",
        "executionInfo": {
          "status": "ok",
          "timestamp": 1518725276543,
          "user_tz": -330,
          "elapsed": 4149,
          "user": {
            "displayName": "Pursh manipal",
            "photoUrl": "//lh6.googleusercontent.com/-2tWDU08uTgw/AAAAAAAAAAI/AAAAAAAACnU/JgMeUOGKZeM/s50-c-k-no/photo.jpg",
            "userId": "113752929865705600262"
          }
        }
      },
      "cell_type": "code",
      "source": [
        "!apt-get -qq install -y libsm6 libxext6 && pip install -q -U opencv-python\n",
        "import cv2"
      ],
      "execution_count": 260,
      "outputs": [
        {
          "output_type": "stream",
          "text": [
            "/usr/local/lib/python3.6/dist-packages/PIL/Image.py:80: RuntimeWarning: The _imaging extension was built for another version of Pillow or PIL:\n",
            "Core version: 4.0.0\n",
            "Pillow version: 5.0.0\n",
            "  warnings.warn(str(v), RuntimeWarning)\n",
            "[autoreload of PIL.Image failed: Traceback (most recent call last):\n",
            "  File \"/usr/local/lib/python3.6/dist-packages/IPython/extensions/autoreload.py\", line 247, in check\n",
            "    superreload(m, reload, self.old_objects)\n",
            "ImportError: The _imaging extension was built for another version of Pillow or PIL:\n",
            "Core version: 4.0.0\n",
            "Pillow version: 5.0.0\n",
            "]\n",
            "[autoreload of PIL.JpegImagePlugin failed: Traceback (most recent call last):\n",
            "  File \"/usr/local/lib/python3.6/dist-packages/IPython/extensions/autoreload.py\", line 247, in check\n",
            "    superreload(m, reload, self.old_objects)\n",
            "AttributeError: module 'PIL.Image' has no attribute 'register_extensions'\n",
            "]\n",
            "[autoreload of PIL.TiffImagePlugin failed: Traceback (most recent call last):\n",
            "  File \"/usr/local/lib/python3.6/dist-packages/IPython/extensions/autoreload.py\", line 247, in check\n",
            "    superreload(m, reload, self.old_objects)\n",
            "AttributeError: module 'PIL.Image' has no attribute 'register_extensions'\n",
            "]\n",
            "[autoreload of PIL.PpmImagePlugin failed: Traceback (most recent call last):\n",
            "  File \"/usr/local/lib/python3.6/dist-packages/IPython/extensions/autoreload.py\", line 247, in check\n",
            "    superreload(m, reload, self.old_objects)\n",
            "AttributeError: module 'PIL.Image' has no attribute 'register_extensions'\n",
            "]\n",
            "/usr/local/lib/python3.6/dist-packages/PIL/Image.py:80: RuntimeWarning: The _imaging extension was built for another version of Pillow or PIL:\n",
            "Core version: 4.0.0\n",
            "Pillow version: 5.0.0\n",
            "  warnings.warn(str(v), RuntimeWarning)\n",
            "[autoreload of PIL.Image failed: Traceback (most recent call last):\n",
            "  File \"/usr/local/lib/python3.6/dist-packages/IPython/extensions/autoreload.py\", line 247, in check\n",
            "    superreload(m, reload, self.old_objects)\n",
            "ImportError: The _imaging extension was built for another version of Pillow or PIL:\n",
            "Core version: 4.0.0\n",
            "Pillow version: 5.0.0\n",
            "]\n",
            "[autoreload of PIL.JpegImagePlugin failed: Traceback (most recent call last):\n",
            "  File \"/usr/local/lib/python3.6/dist-packages/IPython/extensions/autoreload.py\", line 247, in check\n",
            "    superreload(m, reload, self.old_objects)\n",
            "AttributeError: module 'PIL.Image' has no attribute 'register_extensions'\n",
            "]\n",
            "[autoreload of PIL.TiffImagePlugin failed: Traceback (most recent call last):\n",
            "  File \"/usr/local/lib/python3.6/dist-packages/IPython/extensions/autoreload.py\", line 247, in check\n",
            "    superreload(m, reload, self.old_objects)\n",
            "AttributeError: module 'PIL.Image' has no attribute 'register_extensions'\n",
            "]\n",
            "[autoreload of PIL.PpmImagePlugin failed: Traceback (most recent call last):\n",
            "  File \"/usr/local/lib/python3.6/dist-packages/IPython/extensions/autoreload.py\", line 247, in check\n",
            "    superreload(m, reload, self.old_objects)\n",
            "AttributeError: module 'PIL.Image' has no attribute 'register_extensions'\n",
            "]\n",
            "/usr/local/lib/python3.6/dist-packages/PIL/Image.py:80: RuntimeWarning: The _imaging extension was built for another version of Pillow or PIL:\n",
            "Core version: 4.0.0\n",
            "Pillow version: 5.0.0\n",
            "  warnings.warn(str(v), RuntimeWarning)\n",
            "[autoreload of PIL.Image failed: Traceback (most recent call last):\n",
            "  File \"/usr/local/lib/python3.6/dist-packages/IPython/extensions/autoreload.py\", line 247, in check\n",
            "    superreload(m, reload, self.old_objects)\n",
            "ImportError: The _imaging extension was built for another version of Pillow or PIL:\n",
            "Core version: 4.0.0\n",
            "Pillow version: 5.0.0\n",
            "]\n",
            "[autoreload of PIL.JpegImagePlugin failed: Traceback (most recent call last):\n",
            "  File \"/usr/local/lib/python3.6/dist-packages/IPython/extensions/autoreload.py\", line 247, in check\n",
            "    superreload(m, reload, self.old_objects)\n",
            "AttributeError: module 'PIL.Image' has no attribute 'register_extensions'\n",
            "]\n",
            "[autoreload of PIL.TiffImagePlugin failed: Traceback (most recent call last):\n",
            "  File \"/usr/local/lib/python3.6/dist-packages/IPython/extensions/autoreload.py\", line 247, in check\n",
            "    superreload(m, reload, self.old_objects)\n",
            "AttributeError: module 'PIL.Image' has no attribute 'register_extensions'\n",
            "]\n",
            "[autoreload of PIL.PpmImagePlugin failed: Traceback (most recent call last):\n",
            "  File \"/usr/local/lib/python3.6/dist-packages/IPython/extensions/autoreload.py\", line 247, in check\n",
            "    superreload(m, reload, self.old_objects)\n",
            "AttributeError: module 'PIL.Image' has no attribute 'register_extensions'\n",
            "]\n",
            "/usr/local/lib/python3.6/dist-packages/PIL/Image.py:80: RuntimeWarning: The _imaging extension was built for another version of Pillow or PIL:\n",
            "Core version: 4.0.0\n",
            "Pillow version: 5.0.0\n",
            "  warnings.warn(str(v), RuntimeWarning)\n",
            "[autoreload of PIL.Image failed: Traceback (most recent call last):\n",
            "  File \"/usr/local/lib/python3.6/dist-packages/IPython/extensions/autoreload.py\", line 247, in check\n",
            "    superreload(m, reload, self.old_objects)\n",
            "ImportError: The _imaging extension was built for another version of Pillow or PIL:\n",
            "Core version: 4.0.0\n",
            "Pillow version: 5.0.0\n",
            "]\n",
            "[autoreload of PIL.JpegImagePlugin failed: Traceback (most recent call last):\n",
            "  File \"/usr/local/lib/python3.6/dist-packages/IPython/extensions/autoreload.py\", line 247, in check\n",
            "    superreload(m, reload, self.old_objects)\n",
            "AttributeError: module 'PIL.Image' has no attribute 'register_extensions'\n",
            "]\n",
            "[autoreload of PIL.TiffImagePlugin failed: Traceback (most recent call last):\n",
            "  File \"/usr/local/lib/python3.6/dist-packages/IPython/extensions/autoreload.py\", line 247, in check\n",
            "    superreload(m, reload, self.old_objects)\n",
            "AttributeError: module 'PIL.Image' has no attribute 'register_extensions'\n",
            "]\n",
            "[autoreload of PIL.PpmImagePlugin failed: Traceback (most recent call last):\n",
            "  File \"/usr/local/lib/python3.6/dist-packages/IPython/extensions/autoreload.py\", line 247, in check\n",
            "    superreload(m, reload, self.old_objects)\n",
            "AttributeError: module 'PIL.Image' has no attribute 'register_extensions'\n",
            "]\n",
            "/usr/local/lib/python3.6/dist-packages/PIL/Image.py:80: RuntimeWarning: The _imaging extension was built for another version of Pillow or PIL:\n",
            "Core version: 4.0.0\n",
            "Pillow version: 5.0.0\n",
            "  warnings.warn(str(v), RuntimeWarning)\n",
            "[autoreload of PIL.Image failed: Traceback (most recent call last):\n",
            "  File \"/usr/local/lib/python3.6/dist-packages/IPython/extensions/autoreload.py\", line 247, in check\n",
            "    superreload(m, reload, self.old_objects)\n",
            "ImportError: The _imaging extension was built for another version of Pillow or PIL:\n",
            "Core version: 4.0.0\n",
            "Pillow version: 5.0.0\n",
            "]\n",
            "[autoreload of PIL.JpegImagePlugin failed: Traceback (most recent call last):\n",
            "  File \"/usr/local/lib/python3.6/dist-packages/IPython/extensions/autoreload.py\", line 247, in check\n",
            "    superreload(m, reload, self.old_objects)\n",
            "AttributeError: module 'PIL.Image' has no attribute 'register_extensions'\n",
            "]\n",
            "[autoreload of PIL.TiffImagePlugin failed: Traceback (most recent call last):\n",
            "  File \"/usr/local/lib/python3.6/dist-packages/IPython/extensions/autoreload.py\", line 247, in check\n",
            "    superreload(m, reload, self.old_objects)\n",
            "AttributeError: module 'PIL.Image' has no attribute 'register_extensions'\n",
            "]\n",
            "[autoreload of PIL.PpmImagePlugin failed: Traceback (most recent call last):\n",
            "  File \"/usr/local/lib/python3.6/dist-packages/IPython/extensions/autoreload.py\", line 247, in check\n",
            "    superreload(m, reload, self.old_objects)\n",
            "AttributeError: module 'PIL.Image' has no attribute 'register_extensions'\n",
            "]\n",
            "/usr/local/lib/python3.6/dist-packages/PIL/Image.py:80: RuntimeWarning: The _imaging extension was built for another version of Pillow or PIL:\n",
            "Core version: 4.0.0\n",
            "Pillow version: 5.0.0\n",
            "  warnings.warn(str(v), RuntimeWarning)\n",
            "[autoreload of PIL.Image failed: Traceback (most recent call last):\n",
            "  File \"/usr/local/lib/python3.6/dist-packages/IPython/extensions/autoreload.py\", line 247, in check\n",
            "    superreload(m, reload, self.old_objects)\n",
            "ImportError: The _imaging extension was built for another version of Pillow or PIL:\n",
            "Core version: 4.0.0\n",
            "Pillow version: 5.0.0\n",
            "]\n",
            "[autoreload of PIL.JpegImagePlugin failed: Traceback (most recent call last):\n",
            "  File \"/usr/local/lib/python3.6/dist-packages/IPython/extensions/autoreload.py\", line 247, in check\n",
            "    superreload(m, reload, self.old_objects)\n",
            "AttributeError: module 'PIL.Image' has no attribute 'register_extensions'\n",
            "]\n",
            "[autoreload of PIL.TiffImagePlugin failed: Traceback (most recent call last):\n",
            "  File \"/usr/local/lib/python3.6/dist-packages/IPython/extensions/autoreload.py\", line 247, in check\n",
            "    superreload(m, reload, self.old_objects)\n",
            "AttributeError: module 'PIL.Image' has no attribute 'register_extensions'\n",
            "]\n",
            "[autoreload of PIL.PpmImagePlugin failed: Traceback (most recent call last):\n",
            "  File \"/usr/local/lib/python3.6/dist-packages/IPython/extensions/autoreload.py\", line 247, in check\n",
            "    superreload(m, reload, self.old_objects)\n",
            "AttributeError: module 'PIL.Image' has no attribute 'register_extensions'\n",
            "]\n"
          ],
          "name": "stderr"
        }
      ]
    },
    {
      "metadata": {
        "id": "XFk9fUr_CUfF",
        "colab_type": "code",
        "colab": {
          "autoexec": {
            "startup": false,
            "wait_interval": 0
          }
        }
      },
      "cell_type": "code",
      "source": [
        "!pip install -q keras\n",
        "import keras"
      ],
      "execution_count": 0,
      "outputs": []
    },
    {
      "metadata": {
        "id": "4ZiHmgnzi6SM",
        "colab_type": "code",
        "colab": {
          "autoexec": {
            "startup": false,
            "wait_interval": 0
          },
          "output_extras": [
            {
              "item_id": 1
            }
          ],
          "base_uri": "https://localhost:8080/",
          "height": 34
        },
        "outputId": "74416b3b-cdd7-4648-e5cd-e30010bb65eb",
        "executionInfo": {
          "status": "ok",
          "timestamp": 1518725280128,
          "user_tz": -330,
          "elapsed": 788,
          "user": {
            "displayName": "Pursh manipal",
            "photoUrl": "//lh6.googleusercontent.com/-2tWDU08uTgw/AAAAAAAAAAI/AAAAAAAACnU/JgMeUOGKZeM/s50-c-k-no/photo.jpg",
            "userId": "113752929865705600262"
          }
        }
      },
      "cell_type": "code",
      "source": [
        "cd"
      ],
      "execution_count": 262,
      "outputs": [
        {
          "output_type": "stream",
          "text": [
            "/content\n"
          ],
          "name": "stdout"
        }
      ]
    },
    {
      "metadata": {
        "id": "2FBhnHip1i__",
        "colab_type": "code",
        "colab": {
          "autoexec": {
            "startup": false,
            "wait_interval": 0
          },
          "output_extras": [
            {
              "item_id": 1
            }
          ],
          "base_uri": "https://localhost:8080/",
          "height": 34
        },
        "outputId": "828b2426-d716-47bf-c9d1-f97d3bfe9369",
        "executionInfo": {
          "status": "ok",
          "timestamp": 1518725281304,
          "user_tz": -330,
          "elapsed": 1003,
          "user": {
            "displayName": "Pursh manipal",
            "photoUrl": "//lh6.googleusercontent.com/-2tWDU08uTgw/AAAAAAAAAAI/AAAAAAAACnU/JgMeUOGKZeM/s50-c-k-no/photo.jpg",
            "userId": "113752929865705600262"
          }
        }
      },
      "cell_type": "code",
      "source": [
        "ls"
      ],
      "execution_count": 263,
      "outputs": [
        {
          "output_type": "stream",
          "text": [
            "\u001b[0m\u001b[01;34mdatalab\u001b[0m/  \u001b[01;34mdogbreed\u001b[0m/\r\n"
          ],
          "name": "stdout"
        }
      ]
    },
    {
      "metadata": {
        "id": "FSY6pTyCCJoA",
        "colab_type": "code",
        "colab": {
          "autoexec": {
            "startup": false,
            "wait_interval": 0
          },
          "output_extras": [
            {
              "item_id": 1
            }
          ],
          "base_uri": "https://localhost:8080/",
          "height": 34
        },
        "outputId": "eebb499d-2269-4a2e-873c-f2e65cf0ae9f",
        "executionInfo": {
          "status": "ok",
          "timestamp": 1518725282243,
          "user_tz": -330,
          "elapsed": 877,
          "user": {
            "displayName": "Pursh manipal",
            "photoUrl": "//lh6.googleusercontent.com/-2tWDU08uTgw/AAAAAAAAAAI/AAAAAAAACnU/JgMeUOGKZeM/s50-c-k-no/photo.jpg",
            "userId": "113752929865705600262"
          }
        }
      },
      "cell_type": "code",
      "source": [
        "cd /usr/local/lib/python3.6/dist-packages/fastai"
      ],
      "execution_count": 264,
      "outputs": [
        {
          "output_type": "stream",
          "text": [
            "/usr/local/lib/python3.6/dist-packages/fastai\n"
          ],
          "name": "stdout"
        }
      ]
    },
    {
      "metadata": {
        "id": "rP4dLAds1nLx",
        "colab_type": "code",
        "colab": {
          "autoexec": {
            "startup": false,
            "wait_interval": 0
          },
          "output_extras": [
            {
              "item_id": 1
            }
          ],
          "base_uri": "https://localhost:8080/",
          "height": 119
        },
        "outputId": "78907d81-309c-42de-fdae-db51533ab34a",
        "executionInfo": {
          "status": "ok",
          "timestamp": 1518725283553,
          "user_tz": -330,
          "elapsed": 1140,
          "user": {
            "displayName": "Pursh manipal",
            "photoUrl": "//lh6.googleusercontent.com/-2tWDU08uTgw/AAAAAAAAAAI/AAAAAAAACnU/JgMeUOGKZeM/s50-c-k-no/photo.jpg",
            "userId": "113752929865705600262"
          }
        }
      },
      "cell_type": "code",
      "source": [
        "ls"
      ],
      "execution_count": 265,
      "outputs": [
        {
          "output_type": "stream",
          "text": [
            "column_data.py   initializers.py     lm_rnn.py   plots.py      structured.py\r\n",
            "conv_learner.py  __init__.py         losses.py   \u001b[0m\u001b[01;34m__pycache__\u001b[0m/  torch_imports.py\r\n",
            "core.py          io.py               metrics.py  rnn_reg.py    transforms.py\r\n",
            "dataloader.py    layer_optimizer.py  model.py    rnn_train.py  utils.py\r\n",
            "dataset.py       layers.py           \u001b[01;34mmodels\u001b[0m/     set_spawn.py  \u001b[01;34mweights\u001b[0m/\r\n",
            "imports.py       learner.py          nlp.py      sgdr.py       weights.tgz\r\n"
          ],
          "name": "stdout"
        }
      ]
    },
    {
      "metadata": {
        "id": "a-N6ssQ04B9w",
        "colab_type": "code",
        "colab": {
          "autoexec": {
            "startup": false,
            "wait_interval": 0
          }
        }
      },
      "cell_type": "code",
      "source": [
        "#!wget http://files.fast.ai/models/weights.tgz"
      ],
      "execution_count": 0,
      "outputs": []
    },
    {
      "metadata": {
        "id": "z5LkJTjEGqJ2",
        "colab_type": "code",
        "colab": {
          "autoexec": {
            "startup": false,
            "wait_interval": 0
          }
        }
      },
      "cell_type": "code",
      "source": [
        "#!tar -xvzf weights.tgz"
      ],
      "execution_count": 0,
      "outputs": []
    },
    {
      "metadata": {
        "id": "P7Sop8aSDM_R",
        "colab_type": "code",
        "colab": {
          "autoexec": {
            "startup": false,
            "wait_interval": 0
          },
          "output_extras": [
            {
              "item_id": 1
            }
          ],
          "base_uri": "https://localhost:8080/",
          "height": 34
        },
        "outputId": "f36b9dc2-11dc-40f9-9012-cf6f0be70994",
        "executionInfo": {
          "status": "ok",
          "timestamp": 1518725286103,
          "user_tz": -330,
          "elapsed": 759,
          "user": {
            "displayName": "Pursh manipal",
            "photoUrl": "//lh6.googleusercontent.com/-2tWDU08uTgw/AAAAAAAAAAI/AAAAAAAACnU/JgMeUOGKZeM/s50-c-k-no/photo.jpg",
            "userId": "113752929865705600262"
          }
        }
      },
      "cell_type": "code",
      "source": [
        "cd"
      ],
      "execution_count": 268,
      "outputs": [
        {
          "output_type": "stream",
          "text": [
            "/content\n"
          ],
          "name": "stdout"
        }
      ]
    },
    {
      "metadata": {
        "id": "xO5BZvuGUJok",
        "colab_type": "code",
        "colab": {
          "autoexec": {
            "startup": false,
            "wait_interval": 0
          }
        }
      },
      "cell_type": "code",
      "source": [
        "%matplotlib inline\n",
        "import numpy as np\n",
        "import pandas as pd\n",
        "import datetime as dt\n",
        "import matplotlib.pyplot as plt\n",
        "from mpl_toolkits.axes_grid1 import ImageGrid\n",
        "from os import listdir, makedirs\n",
        "from os.path import join, exists, expanduser\n",
        "from tqdm import tqdm\n",
        "from sklearn.metrics import log_loss, accuracy_score\n",
        "from keras.preprocessing import image\n",
        "from keras.applications.vgg16 import VGG16\n",
        "from keras.applications.resnet50 import ResNet50\n",
        "from keras.applications import xception\n",
        "from keras.applications import inception_v3\n",
        "from keras.applications.vgg16 import preprocess_input, decode_predictions\n",
        "from sklearn.linear_model import LogisticRegression"
      ],
      "execution_count": 0,
      "outputs": []
    },
    {
      "metadata": {
        "id": "CoHzU7k2kjO0",
        "colab_type": "code",
        "colab": {
          "autoexec": {
            "startup": false,
            "wait_interval": 0
          },
          "output_extras": [
            {
              "item_id": 1
            }
          ],
          "base_uri": "https://localhost:8080/",
          "height": 34
        },
        "outputId": "5160cc9d-03ec-4f8f-b3c2-31c4e5e28404",
        "executionInfo": {
          "status": "ok",
          "timestamp": 1518725287821,
          "user_tz": -330,
          "elapsed": 781,
          "user": {
            "displayName": "Pursh manipal",
            "photoUrl": "//lh6.googleusercontent.com/-2tWDU08uTgw/AAAAAAAAAAI/AAAAAAAACnU/JgMeUOGKZeM/s50-c-k-no/photo.jpg",
            "userId": "113752929865705600262"
          }
        }
      },
      "cell_type": "code",
      "source": [
        "cd"
      ],
      "execution_count": 270,
      "outputs": [
        {
          "output_type": "stream",
          "text": [
            "/content\n"
          ],
          "name": "stdout"
        }
      ]
    },
    {
      "metadata": {
        "id": "qpP1nfSuuiLs",
        "colab_type": "code",
        "colab": {
          "autoexec": {
            "startup": false,
            "wait_interval": 0
          },
          "output_extras": [
            {
              "item_id": 1
            }
          ],
          "base_uri": "https://localhost:8080/",
          "height": 34
        },
        "outputId": "7a5da977-6069-4f41-d943-548c20d81b4a",
        "executionInfo": {
          "status": "ok",
          "timestamp": 1518725289100,
          "user_tz": -330,
          "elapsed": 1163,
          "user": {
            "displayName": "Pursh manipal",
            "photoUrl": "//lh6.googleusercontent.com/-2tWDU08uTgw/AAAAAAAAAAI/AAAAAAAACnU/JgMeUOGKZeM/s50-c-k-no/photo.jpg",
            "userId": "113752929865705600262"
          }
        }
      },
      "cell_type": "code",
      "source": [
        "ls"
      ],
      "execution_count": 271,
      "outputs": [
        {
          "output_type": "stream",
          "text": [
            "\u001b[0m\u001b[01;34mdatalab\u001b[0m/  \u001b[01;34mdogbreed\u001b[0m/\r\n"
          ],
          "name": "stdout"
        }
      ]
    },
    {
      "metadata": {
        "id": "4IX2vzxXCX3x",
        "colab_type": "code",
        "colab": {
          "autoexec": {
            "startup": false,
            "wait_interval": 0
          }
        }
      },
      "cell_type": "code",
      "source": [
        "#mkdir dogbreed"
      ],
      "execution_count": 0,
      "outputs": []
    },
    {
      "metadata": {
        "id": "SxkI2ybA-hyj",
        "colab_type": "code",
        "colab": {
          "autoexec": {
            "startup": false,
            "wait_interval": 0
          },
          "output_extras": [
            {
              "item_id": 1
            }
          ],
          "base_uri": "https://localhost:8080/",
          "height": 34
        },
        "outputId": "b869865b-e13b-415d-9b4e-8d6b00e666a8",
        "executionInfo": {
          "status": "ok",
          "timestamp": 1518725290830,
          "user_tz": -330,
          "elapsed": 820,
          "user": {
            "displayName": "Pursh manipal",
            "photoUrl": "//lh6.googleusercontent.com/-2tWDU08uTgw/AAAAAAAAAAI/AAAAAAAACnU/JgMeUOGKZeM/s50-c-k-no/photo.jpg",
            "userId": "113752929865705600262"
          }
        }
      },
      "cell_type": "code",
      "source": [
        "cd dogbreed"
      ],
      "execution_count": 273,
      "outputs": [
        {
          "output_type": "stream",
          "text": [
            "/content/dogbreed\n"
          ],
          "name": "stdout"
        }
      ]
    },
    {
      "metadata": {
        "id": "7v5OKTSj912L",
        "colab_type": "code",
        "colab": {
          "autoexec": {
            "startup": false,
            "wait_interval": 0
          },
          "output_extras": [
            {
              "item_id": 8
            }
          ],
          "base_uri": "https://localhost:8080/",
          "height": 289
        },
        "outputId": "709ed0d9-d71b-4111-d25f-a7edc91f5f4b",
        "executionInfo": {
          "status": "ok",
          "timestamp": 1518725298212,
          "user_tz": -330,
          "elapsed": 7248,
          "user": {
            "displayName": "Pursh manipal",
            "photoUrl": "//lh6.googleusercontent.com/-2tWDU08uTgw/AAAAAAAAAAI/AAAAAAAACnU/JgMeUOGKZeM/s50-c-k-no/photo.jpg",
            "userId": "113752929865705600262"
          }
        }
      },
      "cell_type": "code",
      "source": [
        "!pip install Pillow==4.0.0 \n",
        "!pip install PIL \n",
        "!pip install Image \n"
      ],
      "execution_count": 274,
      "outputs": [
        {
          "output_type": "stream",
          "text": [
            "Collecting Pillow==4.0.0\n",
            "  Using cached Pillow-4.0.0-cp36-cp36m-manylinux1_x86_64.whl\n",
            "Requirement already satisfied: olefile in /usr/local/lib/python3.6/dist-packages (from Pillow==4.0.0)\n",
            "Installing collected packages: Pillow\n",
            "  Found existing installation: Pillow 5.0.0\n",
            "    Uninstalling Pillow-5.0.0:\n",
            "      Successfully uninstalled Pillow-5.0.0\n",
            "Successfully installed Pillow-4.0.0\n",
            "Collecting PIL\n",
            "\u001b[31m  Could not find a version that satisfies the requirement PIL (from versions: )\u001b[0m\n",
            "\u001b[31mNo matching distribution found for PIL\u001b[0m\n",
            "Requirement already satisfied: Image in /usr/local/lib/python3.6/dist-packages\n",
            "Requirement already satisfied: pillow in /usr/local/lib/python3.6/dist-packages (from Image)\n",
            "Requirement already satisfied: django in /usr/local/lib/python3.6/dist-packages (from Image)\n",
            "Requirement already satisfied: olefile in /usr/local/lib/python3.6/dist-packages (from pillow->Image)\n",
            "Requirement already satisfied: pytz in /usr/local/lib/python3.6/dist-packages (from django->Image)\n"
          ],
          "name": "stdout"
        }
      ]
    },
    {
      "metadata": {
        "id": "pPSGK00lGGnA",
        "colab_type": "code",
        "colab": {
          "autoexec": {
            "startup": false,
            "wait_interval": 0
          },
          "output_extras": [
            {
              "item_id": 1
            }
          ],
          "base_uri": "https://localhost:8080/",
          "height": 51
        },
        "outputId": "7a12740d-a425-4701-89a7-86124ba0fc40",
        "executionInfo": {
          "status": "ok",
          "timestamp": 1518725299358,
          "user_tz": -330,
          "elapsed": 1099,
          "user": {
            "displayName": "Pursh manipal",
            "photoUrl": "//lh6.googleusercontent.com/-2tWDU08uTgw/AAAAAAAAAAI/AAAAAAAACnU/JgMeUOGKZeM/s50-c-k-no/photo.jpg",
            "userId": "113752929865705600262"
          }
        }
      },
      "cell_type": "code",
      "source": [
        "ls"
      ],
      "execution_count": 275,
      "outputs": [
        {
          "output_type": "stream",
          "text": [
            "labels.csv      sample_submission.csv      \u001b[0m\u001b[01;34mtest\u001b[0m/     \u001b[01;34mtmp\u001b[0m/    train.zip\r\n",
            "labels.csv.zip  sample_submission.csv.zip  test.zip  \u001b[01;34mtrain\u001b[0m/\r\n"
          ],
          "name": "stdout"
        }
      ]
    },
    {
      "metadata": {
        "id": "Nsl-LVkIabId",
        "colab_type": "code",
        "colab": {
          "autoexec": {
            "startup": false,
            "wait_interval": 0
          }
        }
      },
      "cell_type": "code",
      "source": [
        "#!pip install kaggle-cli"
      ],
      "execution_count": 0,
      "outputs": []
    },
    {
      "metadata": {
        "id": "Aq_x2zgPsf98",
        "colab_type": "code",
        "colab": {
          "autoexec": {
            "startup": false,
            "wait_interval": 0
          }
        }
      },
      "cell_type": "code",
      "source": [
        "#!kg config -g -u 'pursh2002' -p 'MyCar1973@' -c 'dog-breed-identification'"
      ],
      "execution_count": 0,
      "outputs": []
    },
    {
      "metadata": {
        "id": "-yizuJzpsd5x",
        "colab_type": "code",
        "colab": {
          "autoexec": {
            "startup": false,
            "wait_interval": 0
          }
        }
      },
      "cell_type": "code",
      "source": [
        "#!kg download"
      ],
      "execution_count": 0,
      "outputs": []
    },
    {
      "metadata": {
        "id": "lDNo4APlmOaZ",
        "colab_type": "code",
        "colab": {
          "autoexec": {
            "startup": false,
            "wait_interval": 0
          }
        }
      },
      "cell_type": "code",
      "source": [
        "#!unzip labels.csv.zip"
      ],
      "execution_count": 0,
      "outputs": []
    },
    {
      "metadata": {
        "id": "SDrsd0Komf5n",
        "colab_type": "code",
        "colab": {
          "autoexec": {
            "startup": false,
            "wait_interval": 0
          }
        }
      },
      "cell_type": "code",
      "source": [
        "# Put these at the top of every notebook, to get automatic reloading and inline plotting\n",
        "%reload_ext autoreload\n",
        "%autoreload 2\n",
        "%matplotlib inline"
      ],
      "execution_count": 0,
      "outputs": []
    },
    {
      "metadata": {
        "id": "Kcq5sQD0qQOE",
        "colab_type": "code",
        "colab": {
          "autoexec": {
            "startup": false,
            "wait_interval": 0
          }
        }
      },
      "cell_type": "code",
      "source": [
        "from fastai.imports import *"
      ],
      "execution_count": 0,
      "outputs": []
    },
    {
      "metadata": {
        "id": "MsA-LhXCqY1s",
        "colab_type": "code",
        "colab": {
          "autoexec": {
            "startup": false,
            "wait_interval": 0
          }
        }
      },
      "cell_type": "code",
      "source": [
        "from fastai.transforms import *\n",
        "from fastai.conv_learner import *\n",
        "from fastai.model import *\n",
        "from fastai.dataset import *\n",
        "from fastai.sgdr import *\n",
        "from fastai.plots import *\n",
        "arch = resnext101_64\n"
      ],
      "execution_count": 0,
      "outputs": []
    },
    {
      "metadata": {
        "id": "qIPuJRi7la8B",
        "colab_type": "code",
        "colab": {
          "autoexec": {
            "startup": false,
            "wait_interval": 0
          },
          "output_extras": [
            {
              "item_id": 1
            }
          ],
          "base_uri": "https://localhost:8080/",
          "height": 51
        },
        "outputId": "adae6d42-a164-4355-c585-85d954dfa80c",
        "executionInfo": {
          "status": "ok",
          "timestamp": 1518725306518,
          "user_tz": -330,
          "elapsed": 1040,
          "user": {
            "displayName": "Pursh manipal",
            "photoUrl": "//lh6.googleusercontent.com/-2tWDU08uTgw/AAAAAAAAAAI/AAAAAAAACnU/JgMeUOGKZeM/s50-c-k-no/photo.jpg",
            "userId": "113752929865705600262"
          }
        }
      },
      "cell_type": "code",
      "source": [
        "ls"
      ],
      "execution_count": 283,
      "outputs": [
        {
          "output_type": "stream",
          "text": [
            "labels.csv      sample_submission.csv      \u001b[0m\u001b[01;34mtest\u001b[0m/     \u001b[01;34mtmp\u001b[0m/    train.zip\r\n",
            "labels.csv.zip  sample_submission.csv.zip  test.zip  \u001b[01;34mtrain\u001b[0m/\r\n"
          ],
          "name": "stdout"
        }
      ]
    },
    {
      "metadata": {
        "id": "sKCk6Bd0v-qK",
        "colab_type": "code",
        "colab": {
          "autoexec": {
            "startup": false,
            "wait_interval": 0
          },
          "output_extras": [
            {
              "item_id": 1
            }
          ],
          "base_uri": "https://localhost:8080/",
          "height": 34
        },
        "outputId": "3761dd26-2a5b-4bb6-ce53-d5c17ebd1ff4",
        "executionInfo": {
          "status": "ok",
          "timestamp": 1518725307360,
          "user_tz": -330,
          "elapsed": 814,
          "user": {
            "displayName": "Pursh manipal",
            "photoUrl": "//lh6.googleusercontent.com/-2tWDU08uTgw/AAAAAAAAAAI/AAAAAAAACnU/JgMeUOGKZeM/s50-c-k-no/photo.jpg",
            "userId": "113752929865705600262"
          }
        }
      },
      "cell_type": "code",
      "source": [
        "pwd"
      ],
      "execution_count": 284,
      "outputs": [
        {
          "output_type": "execute_result",
          "data": {
            "text/plain": [
              "'/content/dogbreed'"
            ]
          },
          "metadata": {
            "tags": []
          },
          "execution_count": 284
        }
      ]
    },
    {
      "metadata": {
        "id": "40iRj89_BILc",
        "colab_type": "code",
        "colab": {
          "autoexec": {
            "startup": false,
            "wait_interval": 0
          }
        }
      },
      "cell_type": "code",
      "source": [
        "PATH = \"/content/dogbreed/\"\n",
        "sz=224\n",
        "bs=58\n",
        "arch = resnext101_64\n"
      ],
      "execution_count": 0,
      "outputs": []
    },
    {
      "metadata": {
        "id": "ujTtgUx4A0-p",
        "colab_type": "code",
        "colab": {
          "autoexec": {
            "startup": false,
            "wait_interval": 0
          }
        }
      },
      "cell_type": "code",
      "source": [
        "lable_csv = f'{PATH}labels.csv'\n",
        "n=len(list(open(lable_csv)))-1\n",
        "val_idxs=get_cv_idxs(n)"
      ],
      "execution_count": 0,
      "outputs": []
    },
    {
      "metadata": {
        "id": "eigTTuKRCW7u",
        "colab_type": "code",
        "colab": {
          "autoexec": {
            "startup": false,
            "wait_interval": 0
          },
          "output_extras": [
            {
              "item_id": 1
            }
          ],
          "base_uri": "https://localhost:8080/",
          "height": 204
        },
        "outputId": "ef057e77-8e5e-437e-8fdc-df95c67f650d",
        "executionInfo": {
          "status": "ok",
          "timestamp": 1518725310098,
          "user_tz": -330,
          "elapsed": 982,
          "user": {
            "displayName": "Pursh manipal",
            "photoUrl": "//lh6.googleusercontent.com/-2tWDU08uTgw/AAAAAAAAAAI/AAAAAAAACnU/JgMeUOGKZeM/s50-c-k-no/photo.jpg",
            "userId": "113752929865705600262"
          }
        }
      },
      "cell_type": "code",
      "source": [
        "df = pd.read_csv('labels.csv')\n",
        "df.head()"
      ],
      "execution_count": 287,
      "outputs": [
        {
          "output_type": "execute_result",
          "data": {
            "text/html": [
              "<div>\n",
              "<style scoped>\n",
              "    .dataframe tbody tr th:only-of-type {\n",
              "        vertical-align: middle;\n",
              "    }\n",
              "\n",
              "    .dataframe tbody tr th {\n",
              "        vertical-align: top;\n",
              "    }\n",
              "\n",
              "    .dataframe thead th {\n",
              "        text-align: right;\n",
              "    }\n",
              "</style>\n",
              "<table border=\"1\" class=\"dataframe\">\n",
              "  <thead>\n",
              "    <tr style=\"text-align: right;\">\n",
              "      <th></th>\n",
              "      <th>id</th>\n",
              "      <th>breed</th>\n",
              "    </tr>\n",
              "  </thead>\n",
              "  <tbody>\n",
              "    <tr>\n",
              "      <th>0</th>\n",
              "      <td>000bec180eb18c7604dcecc8fe0dba07</td>\n",
              "      <td>boston_bull</td>\n",
              "    </tr>\n",
              "    <tr>\n",
              "      <th>1</th>\n",
              "      <td>001513dfcb2ffafc82cccf4d8bbaba97</td>\n",
              "      <td>dingo</td>\n",
              "    </tr>\n",
              "    <tr>\n",
              "      <th>2</th>\n",
              "      <td>001cdf01b096e06d78e9e5112d419397</td>\n",
              "      <td>pekinese</td>\n",
              "    </tr>\n",
              "    <tr>\n",
              "      <th>3</th>\n",
              "      <td>00214f311d5d2247d5dfe4fe24b2303d</td>\n",
              "      <td>bluetick</td>\n",
              "    </tr>\n",
              "    <tr>\n",
              "      <th>4</th>\n",
              "      <td>0021f9ceb3235effd7fcde7f7538ed62</td>\n",
              "      <td>golden_retriever</td>\n",
              "    </tr>\n",
              "  </tbody>\n",
              "</table>\n",
              "</div>"
            ],
            "text/plain": [
              "                                 id             breed\n",
              "0  000bec180eb18c7604dcecc8fe0dba07       boston_bull\n",
              "1  001513dfcb2ffafc82cccf4d8bbaba97             dingo\n",
              "2  001cdf01b096e06d78e9e5112d419397          pekinese\n",
              "3  00214f311d5d2247d5dfe4fe24b2303d          bluetick\n",
              "4  0021f9ceb3235effd7fcde7f7538ed62  golden_retriever"
            ]
          },
          "metadata": {
            "tags": []
          },
          "execution_count": 287
        }
      ]
    },
    {
      "metadata": {
        "id": "82GTfBBFCmn0",
        "colab_type": "code",
        "colab": {
          "autoexec": {
            "startup": false,
            "wait_interval": 0
          },
          "output_extras": [
            {
              "item_id": 1
            }
          ],
          "base_uri": "https://localhost:8080/",
          "height": 2000
        },
        "outputId": "deedd11a-d26f-4e3c-9dd9-b86fc2057dd3",
        "executionInfo": {
          "status": "ok",
          "timestamp": 1518725310945,
          "user_tz": -330,
          "elapsed": 732,
          "user": {
            "displayName": "Pursh manipal",
            "photoUrl": "//lh6.googleusercontent.com/-2tWDU08uTgw/AAAAAAAAAAI/AAAAAAAACnU/JgMeUOGKZeM/s50-c-k-no/photo.jpg",
            "userId": "113752929865705600262"
          }
        }
      },
      "cell_type": "code",
      "source": [
        "df.pivot_table(index='breed',aggfunc=len).sort_values('id',ascending=False)"
      ],
      "execution_count": 288,
      "outputs": [
        {
          "output_type": "execute_result",
          "data": {
            "text/html": [
              "<div>\n",
              "<style scoped>\n",
              "    .dataframe tbody tr th:only-of-type {\n",
              "        vertical-align: middle;\n",
              "    }\n",
              "\n",
              "    .dataframe tbody tr th {\n",
              "        vertical-align: top;\n",
              "    }\n",
              "\n",
              "    .dataframe thead th {\n",
              "        text-align: right;\n",
              "    }\n",
              "</style>\n",
              "<table border=\"1\" class=\"dataframe\">\n",
              "  <thead>\n",
              "    <tr style=\"text-align: right;\">\n",
              "      <th></th>\n",
              "      <th>id</th>\n",
              "    </tr>\n",
              "    <tr>\n",
              "      <th>breed</th>\n",
              "      <th></th>\n",
              "    </tr>\n",
              "  </thead>\n",
              "  <tbody>\n",
              "    <tr>\n",
              "      <th>scottish_deerhound</th>\n",
              "      <td>126</td>\n",
              "    </tr>\n",
              "    <tr>\n",
              "      <th>maltese_dog</th>\n",
              "      <td>117</td>\n",
              "    </tr>\n",
              "    <tr>\n",
              "      <th>afghan_hound</th>\n",
              "      <td>116</td>\n",
              "    </tr>\n",
              "    <tr>\n",
              "      <th>entlebucher</th>\n",
              "      <td>115</td>\n",
              "    </tr>\n",
              "    <tr>\n",
              "      <th>bernese_mountain_dog</th>\n",
              "      <td>114</td>\n",
              "    </tr>\n",
              "    <tr>\n",
              "      <th>shih-tzu</th>\n",
              "      <td>112</td>\n",
              "    </tr>\n",
              "    <tr>\n",
              "      <th>great_pyrenees</th>\n",
              "      <td>111</td>\n",
              "    </tr>\n",
              "    <tr>\n",
              "      <th>pomeranian</th>\n",
              "      <td>111</td>\n",
              "    </tr>\n",
              "    <tr>\n",
              "      <th>basenji</th>\n",
              "      <td>110</td>\n",
              "    </tr>\n",
              "    <tr>\n",
              "      <th>samoyed</th>\n",
              "      <td>109</td>\n",
              "    </tr>\n",
              "    <tr>\n",
              "      <th>airedale</th>\n",
              "      <td>107</td>\n",
              "    </tr>\n",
              "    <tr>\n",
              "      <th>tibetan_terrier</th>\n",
              "      <td>107</td>\n",
              "    </tr>\n",
              "    <tr>\n",
              "      <th>leonberg</th>\n",
              "      <td>106</td>\n",
              "    </tr>\n",
              "    <tr>\n",
              "      <th>cairn</th>\n",
              "      <td>106</td>\n",
              "    </tr>\n",
              "    <tr>\n",
              "      <th>beagle</th>\n",
              "      <td>105</td>\n",
              "    </tr>\n",
              "    <tr>\n",
              "      <th>japanese_spaniel</th>\n",
              "      <td>105</td>\n",
              "    </tr>\n",
              "    <tr>\n",
              "      <th>australian_terrier</th>\n",
              "      <td>102</td>\n",
              "    </tr>\n",
              "    <tr>\n",
              "      <th>blenheim_spaniel</th>\n",
              "      <td>102</td>\n",
              "    </tr>\n",
              "    <tr>\n",
              "      <th>miniature_pinscher</th>\n",
              "      <td>102</td>\n",
              "    </tr>\n",
              "    <tr>\n",
              "      <th>irish_wolfhound</th>\n",
              "      <td>101</td>\n",
              "    </tr>\n",
              "    <tr>\n",
              "      <th>lakeland_terrier</th>\n",
              "      <td>99</td>\n",
              "    </tr>\n",
              "    <tr>\n",
              "      <th>saluki</th>\n",
              "      <td>99</td>\n",
              "    </tr>\n",
              "    <tr>\n",
              "      <th>papillon</th>\n",
              "      <td>96</td>\n",
              "    </tr>\n",
              "    <tr>\n",
              "      <th>whippet</th>\n",
              "      <td>95</td>\n",
              "    </tr>\n",
              "    <tr>\n",
              "      <th>siberian_husky</th>\n",
              "      <td>95</td>\n",
              "    </tr>\n",
              "    <tr>\n",
              "      <th>norwegian_elkhound</th>\n",
              "      <td>95</td>\n",
              "    </tr>\n",
              "    <tr>\n",
              "      <th>pug</th>\n",
              "      <td>94</td>\n",
              "    </tr>\n",
              "    <tr>\n",
              "      <th>chow</th>\n",
              "      <td>93</td>\n",
              "    </tr>\n",
              "    <tr>\n",
              "      <th>italian_greyhound</th>\n",
              "      <td>92</td>\n",
              "    </tr>\n",
              "    <tr>\n",
              "      <th>pembroke</th>\n",
              "      <td>92</td>\n",
              "    </tr>\n",
              "    <tr>\n",
              "      <th>...</th>\n",
              "      <td>...</td>\n",
              "    </tr>\n",
              "    <tr>\n",
              "      <th>german_short-haired_pointer</th>\n",
              "      <td>75</td>\n",
              "    </tr>\n",
              "    <tr>\n",
              "      <th>boxer</th>\n",
              "      <td>75</td>\n",
              "    </tr>\n",
              "    <tr>\n",
              "      <th>bull_mastiff</th>\n",
              "      <td>75</td>\n",
              "    </tr>\n",
              "    <tr>\n",
              "      <th>borzoi</th>\n",
              "      <td>75</td>\n",
              "    </tr>\n",
              "    <tr>\n",
              "      <th>pekinese</th>\n",
              "      <td>75</td>\n",
              "    </tr>\n",
              "    <tr>\n",
              "      <th>cocker_spaniel</th>\n",
              "      <td>74</td>\n",
              "    </tr>\n",
              "    <tr>\n",
              "      <th>american_staffordshire_terrier</th>\n",
              "      <td>74</td>\n",
              "    </tr>\n",
              "    <tr>\n",
              "      <th>doberman</th>\n",
              "      <td>74</td>\n",
              "    </tr>\n",
              "    <tr>\n",
              "      <th>brittany_spaniel</th>\n",
              "      <td>73</td>\n",
              "    </tr>\n",
              "    <tr>\n",
              "      <th>malinois</th>\n",
              "      <td>73</td>\n",
              "    </tr>\n",
              "    <tr>\n",
              "      <th>standard_schnauzer</th>\n",
              "      <td>72</td>\n",
              "    </tr>\n",
              "    <tr>\n",
              "      <th>flat-coated_retriever</th>\n",
              "      <td>72</td>\n",
              "    </tr>\n",
              "    <tr>\n",
              "      <th>redbone</th>\n",
              "      <td>72</td>\n",
              "    </tr>\n",
              "    <tr>\n",
              "      <th>border_collie</th>\n",
              "      <td>72</td>\n",
              "    </tr>\n",
              "    <tr>\n",
              "      <th>curly-coated_retriever</th>\n",
              "      <td>72</td>\n",
              "    </tr>\n",
              "    <tr>\n",
              "      <th>kuvasz</th>\n",
              "      <td>71</td>\n",
              "    </tr>\n",
              "    <tr>\n",
              "      <th>chihuahua</th>\n",
              "      <td>71</td>\n",
              "    </tr>\n",
              "    <tr>\n",
              "      <th>soft-coated_wheaten_terrier</th>\n",
              "      <td>71</td>\n",
              "    </tr>\n",
              "    <tr>\n",
              "      <th>french_bulldog</th>\n",
              "      <td>70</td>\n",
              "    </tr>\n",
              "    <tr>\n",
              "      <th>vizsla</th>\n",
              "      <td>70</td>\n",
              "    </tr>\n",
              "    <tr>\n",
              "      <th>tibetan_mastiff</th>\n",
              "      <td>69</td>\n",
              "    </tr>\n",
              "    <tr>\n",
              "      <th>german_shepherd</th>\n",
              "      <td>69</td>\n",
              "    </tr>\n",
              "    <tr>\n",
              "      <th>giant_schnauzer</th>\n",
              "      <td>69</td>\n",
              "    </tr>\n",
              "    <tr>\n",
              "      <th>walker_hound</th>\n",
              "      <td>69</td>\n",
              "    </tr>\n",
              "    <tr>\n",
              "      <th>otterhound</th>\n",
              "      <td>69</td>\n",
              "    </tr>\n",
              "    <tr>\n",
              "      <th>golden_retriever</th>\n",
              "      <td>67</td>\n",
              "    </tr>\n",
              "    <tr>\n",
              "      <th>brabancon_griffon</th>\n",
              "      <td>67</td>\n",
              "    </tr>\n",
              "    <tr>\n",
              "      <th>komondor</th>\n",
              "      <td>67</td>\n",
              "    </tr>\n",
              "    <tr>\n",
              "      <th>briard</th>\n",
              "      <td>66</td>\n",
              "    </tr>\n",
              "    <tr>\n",
              "      <th>eskimo_dog</th>\n",
              "      <td>66</td>\n",
              "    </tr>\n",
              "  </tbody>\n",
              "</table>\n",
              "<p>120 rows × 1 columns</p>\n",
              "</div>"
            ],
            "text/plain": [
              "                                 id\n",
              "breed                              \n",
              "scottish_deerhound              126\n",
              "maltese_dog                     117\n",
              "afghan_hound                    116\n",
              "entlebucher                     115\n",
              "bernese_mountain_dog            114\n",
              "shih-tzu                        112\n",
              "great_pyrenees                  111\n",
              "pomeranian                      111\n",
              "basenji                         110\n",
              "samoyed                         109\n",
              "airedale                        107\n",
              "tibetan_terrier                 107\n",
              "leonberg                        106\n",
              "cairn                           106\n",
              "beagle                          105\n",
              "japanese_spaniel                105\n",
              "australian_terrier              102\n",
              "blenheim_spaniel                102\n",
              "miniature_pinscher              102\n",
              "irish_wolfhound                 101\n",
              "lakeland_terrier                 99\n",
              "saluki                           99\n",
              "papillon                         96\n",
              "whippet                          95\n",
              "siberian_husky                   95\n",
              "norwegian_elkhound               95\n",
              "pug                              94\n",
              "chow                             93\n",
              "italian_greyhound                92\n",
              "pembroke                         92\n",
              "...                             ...\n",
              "german_short-haired_pointer      75\n",
              "boxer                            75\n",
              "bull_mastiff                     75\n",
              "borzoi                           75\n",
              "pekinese                         75\n",
              "cocker_spaniel                   74\n",
              "american_staffordshire_terrier   74\n",
              "doberman                         74\n",
              "brittany_spaniel                 73\n",
              "malinois                         73\n",
              "standard_schnauzer               72\n",
              "flat-coated_retriever            72\n",
              "redbone                          72\n",
              "border_collie                    72\n",
              "curly-coated_retriever           72\n",
              "kuvasz                           71\n",
              "chihuahua                        71\n",
              "soft-coated_wheaten_terrier      71\n",
              "french_bulldog                   70\n",
              "vizsla                           70\n",
              "tibetan_mastiff                  69\n",
              "german_shepherd                  69\n",
              "giant_schnauzer                  69\n",
              "walker_hound                     69\n",
              "otterhound                       69\n",
              "golden_retriever                 67\n",
              "brabancon_griffon                67\n",
              "komondor                         67\n",
              "briard                           66\n",
              "eskimo_dog                       66\n",
              "\n",
              "[120 rows x 1 columns]"
            ]
          },
          "metadata": {
            "tags": []
          },
          "execution_count": 288
        }
      ]
    },
    {
      "metadata": {
        "id": "xfrnA7YMFYeg",
        "colab_type": "code",
        "colab": {
          "autoexec": {
            "startup": false,
            "wait_interval": 0
          }
        }
      },
      "cell_type": "code",
      "source": [
        "# data agumantations \n",
        "tfms = tfms_from_model(arch,sz,aug_tfms=transforms_side_on,max_zoom=1.1)\n",
        "data = ImageClassifierData.from_csv(PATH, 'train',f'{PATH}labels.csv',test_name='test',val_idxs=val_idxs,suffix='.jpg',tfms=tfms,bs=bs)"
      ],
      "execution_count": 0,
      "outputs": []
    },
    {
      "metadata": {
        "id": "tfOMjj_IIf7y",
        "colab_type": "code",
        "colab": {
          "autoexec": {
            "startup": false,
            "wait_interval": 0
          },
          "output_extras": [
            {
              "item_id": 1
            }
          ],
          "base_uri": "https://localhost:8080/",
          "height": 34
        },
        "outputId": "822ca34c-2cd6-47f0-b8bf-2883c8fad245",
        "executionInfo": {
          "status": "ok",
          "timestamp": 1518725312960,
          "user_tz": -330,
          "elapsed": 743,
          "user": {
            "displayName": "Pursh manipal",
            "photoUrl": "//lh6.googleusercontent.com/-2tWDU08uTgw/AAAAAAAAAAI/AAAAAAAACnU/JgMeUOGKZeM/s50-c-k-no/photo.jpg",
            "userId": "113752929865705600262"
          }
        }
      },
      "cell_type": "code",
      "source": [
        "len(val_idxs)"
      ],
      "execution_count": 290,
      "outputs": [
        {
          "output_type": "execute_result",
          "data": {
            "text/plain": [
              "2044"
            ]
          },
          "metadata": {
            "tags": []
          },
          "execution_count": 290
        }
      ]
    },
    {
      "metadata": {
        "id": "Og8YbzeCJFww",
        "colab_type": "code",
        "colab": {
          "autoexec": {
            "startup": false,
            "wait_interval": 0
          },
          "output_extras": [
            {
              "item_id": 1
            }
          ],
          "base_uri": "https://localhost:8080/",
          "height": 34
        },
        "outputId": "3f7d27f5-26b4-4b49-f551-da44068cf53b",
        "executionInfo": {
          "status": "ok",
          "timestamp": 1518725313816,
          "user_tz": -330,
          "elapsed": 731,
          "user": {
            "displayName": "Pursh manipal",
            "photoUrl": "//lh6.googleusercontent.com/-2tWDU08uTgw/AAAAAAAAAAI/AAAAAAAACnU/JgMeUOGKZeM/s50-c-k-no/photo.jpg",
            "userId": "113752929865705600262"
          }
        }
      },
      "cell_type": "code",
      "source": [
        "n"
      ],
      "execution_count": 291,
      "outputs": [
        {
          "output_type": "execute_result",
          "data": {
            "text/plain": [
              "10222"
            ]
          },
          "metadata": {
            "tags": []
          },
          "execution_count": 291
        }
      ]
    },
    {
      "metadata": {
        "id": "hU1Z78eNJ23v",
        "colab_type": "code",
        "colab": {
          "autoexec": {
            "startup": false,
            "wait_interval": 0
          },
          "output_extras": [
            {
              "item_id": 1
            }
          ],
          "base_uri": "https://localhost:8080/",
          "height": 34
        },
        "outputId": "b721b665-756a-4047-fb5a-33c299d2ca6e",
        "executionInfo": {
          "status": "ok",
          "timestamp": 1518725314675,
          "user_tz": -330,
          "elapsed": 733,
          "user": {
            "displayName": "Pursh manipal",
            "photoUrl": "//lh6.googleusercontent.com/-2tWDU08uTgw/AAAAAAAAAAI/AAAAAAAACnU/JgMeUOGKZeM/s50-c-k-no/photo.jpg",
            "userId": "113752929865705600262"
          }
        }
      },
      "cell_type": "code",
      "source": [
        "fn= PATH+data.trn_ds.fnames[0];fn"
      ],
      "execution_count": 292,
      "outputs": [
        {
          "output_type": "execute_result",
          "data": {
            "text/plain": [
              "'/content/dogbreed/train/001513dfcb2ffafc82cccf4d8bbaba97.jpg'"
            ]
          },
          "metadata": {
            "tags": []
          },
          "execution_count": 292
        }
      ]
    },
    {
      "metadata": {
        "id": "k5oVkiwjFbFV",
        "colab_type": "code",
        "colab": {
          "autoexec": {
            "startup": false,
            "wait_interval": 0
          },
          "output_extras": [
            {
              "item_id": 5
            }
          ],
          "base_uri": "https://localhost:8080/",
          "height": 187
        },
        "outputId": "8173e367-d12c-4065-896d-f8aaf8a0755a",
        "executionInfo": {
          "status": "ok",
          "timestamp": 1518725378833,
          "user_tz": -330,
          "elapsed": 5796,
          "user": {
            "displayName": "Pursh manipal",
            "photoUrl": "//lh6.googleusercontent.com/-2tWDU08uTgw/AAAAAAAAAAI/AAAAAAAACnU/JgMeUOGKZeM/s50-c-k-no/photo.jpg",
            "userId": "113752929865705600262"
          }
        }
      },
      "cell_type": "code",
      "source": [
        "!pip install Pillow \n",
        "!pip install PIL \n",
        "!pip install Image "
      ],
      "execution_count": 294,
      "outputs": [
        {
          "output_type": "stream",
          "text": [
            "Requirement already satisfied: Pillow in /usr/local/lib/python3.6/dist-packages\r\n",
            "Requirement already satisfied: olefile in /usr/local/lib/python3.6/dist-packages (from Pillow)\n",
            "Collecting PIL\n",
            "\u001b[31m  Could not find a version that satisfies the requirement PIL (from versions: )\u001b[0m\n",
            "\u001b[31mNo matching distribution found for PIL\u001b[0m\n",
            "Requirement already satisfied: Image in /usr/local/lib/python3.6/dist-packages\n",
            "Requirement already satisfied: pillow in /usr/local/lib/python3.6/dist-packages (from Image)\n",
            "Requirement already satisfied: django in /usr/local/lib/python3.6/dist-packages (from Image)\n",
            "Requirement already satisfied: olefile in /usr/local/lib/python3.6/dist-packages (from pillow->Image)\n",
            "Requirement already satisfied: pytz in /usr/local/lib/python3.6/dist-packages (from django->Image)\n"
          ],
          "name": "stdout"
        }
      ]
    },
    {
      "metadata": {
        "id": "fpdDqqZy2xaH",
        "colab_type": "code",
        "colab": {
          "autoexec": {
            "startup": false,
            "wait_interval": 0
          },
          "output_extras": [
            {
              "item_id": 1
            }
          ],
          "base_uri": "https://localhost:8080/",
          "height": 181
        },
        "outputId": "9424145c-f4d9-4b4a-b75d-69ace39cf8f3",
        "executionInfo": {
          "status": "error",
          "timestamp": 1518725381871,
          "user_tz": -330,
          "elapsed": 949,
          "user": {
            "displayName": "Pursh manipal",
            "photoUrl": "//lh6.googleusercontent.com/-2tWDU08uTgw/AAAAAAAAAAI/AAAAAAAACnU/JgMeUOGKZeM/s50-c-k-no/photo.jpg",
            "userId": "113752929865705600262"
          }
        }
      },
      "cell_type": "code",
      "source": [
        "from PIL.Image import Image\n",
        "img = PIL.Image.open(fn);img"
      ],
      "execution_count": 295,
      "outputs": [
        {
          "output_type": "error",
          "ename": "AttributeError",
          "evalue": "ignored",
          "traceback": [
            "\u001b[0;31m---------------------------------------------------------------------------\u001b[0m",
            "\u001b[0;31mAttributeError\u001b[0m                            Traceback (most recent call last)",
            "\u001b[0;32m<ipython-input-295-c78beada6771>\u001b[0m in \u001b[0;36m<module>\u001b[0;34m()\u001b[0m\n\u001b[1;32m      1\u001b[0m \u001b[0;32mfrom\u001b[0m \u001b[0mPIL\u001b[0m\u001b[0;34m.\u001b[0m\u001b[0mImage\u001b[0m \u001b[0;32mimport\u001b[0m \u001b[0mImage\u001b[0m\u001b[0;34m\u001b[0m\u001b[0m\n\u001b[0;32m----> 2\u001b[0;31m \u001b[0mimg\u001b[0m \u001b[0;34m=\u001b[0m \u001b[0mPIL\u001b[0m\u001b[0;34m.\u001b[0m\u001b[0mImage\u001b[0m\u001b[0;34m.\u001b[0m\u001b[0mopen\u001b[0m\u001b[0;34m(\u001b[0m\u001b[0mfn\u001b[0m\u001b[0;34m)\u001b[0m\u001b[0;34m;\u001b[0m\u001b[0mimg\u001b[0m\u001b[0;34m\u001b[0m\u001b[0m\n\u001b[0m",
            "\u001b[0;31mAttributeError\u001b[0m: module 'PIL' has no attribute 'Image'"
          ]
        }
      ]
    },
    {
      "metadata": {
        "id": "VvfSONFkyxPy",
        "colab_type": "code",
        "colab": {
          "autoexec": {
            "startup": false,
            "wait_interval": 0
          },
          "output_extras": [
            {
              "item_id": 1
            }
          ],
          "base_uri": "https://localhost:8080/",
          "height": 34
        },
        "outputId": "3417fca1-df3e-4586-e505-ab453c613803",
        "executionInfo": {
          "status": "ok",
          "timestamp": 1518725389565,
          "user_tz": -330,
          "elapsed": 843,
          "user": {
            "displayName": "Pursh manipal",
            "photoUrl": "//lh6.googleusercontent.com/-2tWDU08uTgw/AAAAAAAAAAI/AAAAAAAACnU/JgMeUOGKZeM/s50-c-k-no/photo.jpg",
            "userId": "113752929865705600262"
          }
        }
      },
      "cell_type": "code",
      "source": [
        "print (Image)"
      ],
      "execution_count": 296,
      "outputs": [
        {
          "output_type": "stream",
          "text": [
            "<class 'PIL.Image.Image'>\n"
          ],
          "name": "stdout"
        }
      ]
    },
    {
      "metadata": {
        "id": "Xaf2y5dZKUbP",
        "colab_type": "code",
        "colab": {
          "autoexec": {
            "startup": false,
            "wait_interval": 0
          },
          "output_extras": [
            {
              "item_id": 1
            }
          ],
          "base_uri": "https://localhost:8080/",
          "height": 215
        },
        "outputId": "d74d7476-aad8-45bb-ab32-6e7c1280b5fc",
        "executionInfo": {
          "status": "error",
          "timestamp": 1518725391027,
          "user_tz": -330,
          "elapsed": 878,
          "user": {
            "displayName": "Pursh manipal",
            "photoUrl": "//lh6.googleusercontent.com/-2tWDU08uTgw/AAAAAAAAAAI/AAAAAAAACnU/JgMeUOGKZeM/s50-c-k-no/photo.jpg",
            "userId": "113752929865705600262"
          }
        }
      },
      "cell_type": "code",
      "source": [
        "import  PIL as pillow\n",
        "\n",
        "from PIL.Image import Image\n",
        "img = PIL.Image.open(fn)\n",
        "img"
      ],
      "execution_count": 297,
      "outputs": [
        {
          "output_type": "error",
          "ename": "AttributeError",
          "evalue": "ignored",
          "traceback": [
            "\u001b[0;31m---------------------------------------------------------------------------\u001b[0m",
            "\u001b[0;31mAttributeError\u001b[0m                            Traceback (most recent call last)",
            "\u001b[0;32m<ipython-input-297-5d01cefa596b>\u001b[0m in \u001b[0;36m<module>\u001b[0;34m()\u001b[0m\n\u001b[1;32m      2\u001b[0m \u001b[0;34m\u001b[0m\u001b[0m\n\u001b[1;32m      3\u001b[0m \u001b[0;32mfrom\u001b[0m \u001b[0mPIL\u001b[0m\u001b[0;34m.\u001b[0m\u001b[0mImage\u001b[0m \u001b[0;32mimport\u001b[0m \u001b[0mImage\u001b[0m\u001b[0;34m\u001b[0m\u001b[0m\n\u001b[0;32m----> 4\u001b[0;31m \u001b[0mimg\u001b[0m \u001b[0;34m=\u001b[0m \u001b[0mPIL\u001b[0m\u001b[0;34m.\u001b[0m\u001b[0mImage\u001b[0m\u001b[0;34m.\u001b[0m\u001b[0mopen\u001b[0m\u001b[0;34m(\u001b[0m\u001b[0mfn\u001b[0m\u001b[0;34m)\u001b[0m\u001b[0;34m\u001b[0m\u001b[0m\n\u001b[0m\u001b[1;32m      5\u001b[0m \u001b[0mimg\u001b[0m\u001b[0;34m\u001b[0m\u001b[0m\n",
            "\u001b[0;31mAttributeError\u001b[0m: module 'PIL' has no attribute 'Image'"
          ]
        }
      ]
    },
    {
      "metadata": {
        "id": "gbR08YoBKnmv",
        "colab_type": "code",
        "colab": {
          "autoexec": {
            "startup": false,
            "wait_interval": 0
          },
          "output_extras": [
            {
              "item_id": 1
            }
          ],
          "base_uri": "https://localhost:8080/",
          "height": 164
        },
        "outputId": "25365d2f-aee0-4b1a-d55e-3152cf0fcb24",
        "executionInfo": {
          "status": "error",
          "timestamp": 1518725392459,
          "user_tz": -330,
          "elapsed": 834,
          "user": {
            "displayName": "Pursh manipal",
            "photoUrl": "//lh6.googleusercontent.com/-2tWDU08uTgw/AAAAAAAAAAI/AAAAAAAACnU/JgMeUOGKZeM/s50-c-k-no/photo.jpg",
            "userId": "113752929865705600262"
          }
        }
      },
      "cell_type": "code",
      "source": [
        "img.size"
      ],
      "execution_count": 298,
      "outputs": [
        {
          "output_type": "error",
          "ename": "NameError",
          "evalue": "ignored",
          "traceback": [
            "\u001b[0;31m---------------------------------------------------------------------------\u001b[0m",
            "\u001b[0;31mNameError\u001b[0m                                 Traceback (most recent call last)",
            "\u001b[0;32m<ipython-input-298-859141e1bca2>\u001b[0m in \u001b[0;36m<module>\u001b[0;34m()\u001b[0m\n\u001b[0;32m----> 1\u001b[0;31m \u001b[0mimg\u001b[0m\u001b[0;34m.\u001b[0m\u001b[0msize\u001b[0m\u001b[0;34m\u001b[0m\u001b[0m\n\u001b[0m",
            "\u001b[0;31mNameError\u001b[0m: name 'img' is not defined"
          ]
        }
      ]
    },
    {
      "metadata": {
        "id": "45Wbkk0DLBdo",
        "colab_type": "code",
        "colab": {
          "autoexec": {
            "startup": false,
            "wait_interval": 0
          },
          "output_extras": [
            {
              "item_id": 1
            }
          ],
          "base_uri": "https://localhost:8080/",
          "height": 215
        },
        "outputId": "070bd4ae-952a-41a5-f183-14a82e210ba1",
        "executionInfo": {
          "status": "error",
          "timestamp": 1518725395173,
          "user_tz": -330,
          "elapsed": 961,
          "user": {
            "displayName": "Pursh manipal",
            "photoUrl": "//lh6.googleusercontent.com/-2tWDU08uTgw/AAAAAAAAAAI/AAAAAAAACnU/JgMeUOGKZeM/s50-c-k-no/photo.jpg",
            "userId": "113752929865705600262"
          }
        }
      },
      "cell_type": "code",
      "source": [
        "size_d={k:PIL.Image.open(PATH+k).size for k in data.trn_ds.fnames}"
      ],
      "execution_count": 299,
      "outputs": [
        {
          "output_type": "error",
          "ename": "AttributeError",
          "evalue": "ignored",
          "traceback": [
            "\u001b[0;31m---------------------------------------------------------------------------\u001b[0m",
            "\u001b[0;31mAttributeError\u001b[0m                            Traceback (most recent call last)",
            "\u001b[0;32m<ipython-input-299-a970350098e0>\u001b[0m in \u001b[0;36m<module>\u001b[0;34m()\u001b[0m\n\u001b[0;32m----> 1\u001b[0;31m \u001b[0msize_d\u001b[0m\u001b[0;34m=\u001b[0m\u001b[0;34m{\u001b[0m\u001b[0mk\u001b[0m\u001b[0;34m:\u001b[0m\u001b[0mPIL\u001b[0m\u001b[0;34m.\u001b[0m\u001b[0mImage\u001b[0m\u001b[0;34m.\u001b[0m\u001b[0mopen\u001b[0m\u001b[0;34m(\u001b[0m\u001b[0mPATH\u001b[0m\u001b[0;34m+\u001b[0m\u001b[0mk\u001b[0m\u001b[0;34m)\u001b[0m\u001b[0;34m.\u001b[0m\u001b[0msize\u001b[0m \u001b[0;32mfor\u001b[0m \u001b[0mk\u001b[0m \u001b[0;32min\u001b[0m \u001b[0mdata\u001b[0m\u001b[0;34m.\u001b[0m\u001b[0mtrn_ds\u001b[0m\u001b[0;34m.\u001b[0m\u001b[0mfnames\u001b[0m\u001b[0;34m}\u001b[0m\u001b[0;34m\u001b[0m\u001b[0m\n\u001b[0m",
            "\u001b[0;32m<ipython-input-299-a970350098e0>\u001b[0m in \u001b[0;36m<dictcomp>\u001b[0;34m(.0)\u001b[0m\n\u001b[0;32m----> 1\u001b[0;31m \u001b[0msize_d\u001b[0m\u001b[0;34m=\u001b[0m\u001b[0;34m{\u001b[0m\u001b[0mk\u001b[0m\u001b[0;34m:\u001b[0m\u001b[0mPIL\u001b[0m\u001b[0;34m.\u001b[0m\u001b[0mImage\u001b[0m\u001b[0;34m.\u001b[0m\u001b[0mopen\u001b[0m\u001b[0;34m(\u001b[0m\u001b[0mPATH\u001b[0m\u001b[0;34m+\u001b[0m\u001b[0mk\u001b[0m\u001b[0;34m)\u001b[0m\u001b[0;34m.\u001b[0m\u001b[0msize\u001b[0m \u001b[0;32mfor\u001b[0m \u001b[0mk\u001b[0m \u001b[0;32min\u001b[0m \u001b[0mdata\u001b[0m\u001b[0;34m.\u001b[0m\u001b[0mtrn_ds\u001b[0m\u001b[0;34m.\u001b[0m\u001b[0mfnames\u001b[0m\u001b[0;34m}\u001b[0m\u001b[0;34m\u001b[0m\u001b[0m\n\u001b[0m",
            "\u001b[0;31mAttributeError\u001b[0m: module 'PIL' has no attribute 'Image'"
          ]
        }
      ]
    },
    {
      "metadata": {
        "id": "nxbEfaXHL84_",
        "colab_type": "code",
        "colab": {
          "autoexec": {
            "startup": false,
            "wait_interval": 0
          },
          "output_extras": [
            {
              "item_id": 1
            }
          ],
          "base_uri": "https://localhost:8080/",
          "height": 164
        },
        "outputId": "8717ba50-4e49-44da-ee04-0c49d1f904af",
        "executionInfo": {
          "status": "error",
          "timestamp": 1518725396890,
          "user_tz": -330,
          "elapsed": 826,
          "user": {
            "displayName": "Pursh manipal",
            "photoUrl": "//lh6.googleusercontent.com/-2tWDU08uTgw/AAAAAAAAAAI/AAAAAAAACnU/JgMeUOGKZeM/s50-c-k-no/photo.jpg",
            "userId": "113752929865705600262"
          }
        }
      },
      "cell_type": "code",
      "source": [
        "row_sz,col_sz=list(zip(*size_d.values()))"
      ],
      "execution_count": 300,
      "outputs": [
        {
          "output_type": "error",
          "ename": "NameError",
          "evalue": "ignored",
          "traceback": [
            "\u001b[0;31m---------------------------------------------------------------------------\u001b[0m",
            "\u001b[0;31mNameError\u001b[0m                                 Traceback (most recent call last)",
            "\u001b[0;32m<ipython-input-300-b6490d0ced35>\u001b[0m in \u001b[0;36m<module>\u001b[0;34m()\u001b[0m\n\u001b[0;32m----> 1\u001b[0;31m \u001b[0mrow_sz\u001b[0m\u001b[0;34m,\u001b[0m\u001b[0mcol_sz\u001b[0m\u001b[0;34m=\u001b[0m\u001b[0mlist\u001b[0m\u001b[0;34m(\u001b[0m\u001b[0mzip\u001b[0m\u001b[0;34m(\u001b[0m\u001b[0;34m*\u001b[0m\u001b[0msize_d\u001b[0m\u001b[0;34m.\u001b[0m\u001b[0mvalues\u001b[0m\u001b[0;34m(\u001b[0m\u001b[0;34m)\u001b[0m\u001b[0;34m)\u001b[0m\u001b[0;34m)\u001b[0m\u001b[0;34m\u001b[0m\u001b[0m\n\u001b[0m",
            "\u001b[0;31mNameError\u001b[0m: name 'size_d' is not defined"
          ]
        }
      ]
    },
    {
      "metadata": {
        "id": "TC3963rqCm4Y",
        "colab_type": "code",
        "colab": {
          "autoexec": {
            "startup": false,
            "wait_interval": 0
          },
          "output_extras": [
            {
              "item_id": 1
            }
          ],
          "base_uri": "https://localhost:8080/",
          "height": 181
        },
        "outputId": "ca440a42-9b53-4190-bc57-64d46218d151",
        "executionInfo": {
          "status": "error",
          "timestamp": 1518725398456,
          "user_tz": -330,
          "elapsed": 880,
          "user": {
            "displayName": "Pursh manipal",
            "photoUrl": "//lh6.googleusercontent.com/-2tWDU08uTgw/AAAAAAAAAAI/AAAAAAAACnU/JgMeUOGKZeM/s50-c-k-no/photo.jpg",
            "userId": "113752929865705600262"
          }
        }
      },
      "cell_type": "code",
      "source": [
        "row_sz=np.array(row_sz)\n",
        "col_sz=np.array(col_sz)"
      ],
      "execution_count": 301,
      "outputs": [
        {
          "output_type": "error",
          "ename": "NameError",
          "evalue": "ignored",
          "traceback": [
            "\u001b[0;31m---------------------------------------------------------------------------\u001b[0m",
            "\u001b[0;31mNameError\u001b[0m                                 Traceback (most recent call last)",
            "\u001b[0;32m<ipython-input-301-714f85df99b1>\u001b[0m in \u001b[0;36m<module>\u001b[0;34m()\u001b[0m\n\u001b[0;32m----> 1\u001b[0;31m \u001b[0mrow_sz\u001b[0m\u001b[0;34m=\u001b[0m\u001b[0mnp\u001b[0m\u001b[0;34m.\u001b[0m\u001b[0marray\u001b[0m\u001b[0;34m(\u001b[0m\u001b[0mrow_sz\u001b[0m\u001b[0;34m)\u001b[0m\u001b[0;34m\u001b[0m\u001b[0m\n\u001b[0m\u001b[1;32m      2\u001b[0m \u001b[0mcol_sz\u001b[0m\u001b[0;34m=\u001b[0m\u001b[0mnp\u001b[0m\u001b[0;34m.\u001b[0m\u001b[0marray\u001b[0m\u001b[0;34m(\u001b[0m\u001b[0mcol_sz\u001b[0m\u001b[0;34m)\u001b[0m\u001b[0;34m\u001b[0m\u001b[0m\n",
            "\u001b[0;31mNameError\u001b[0m: name 'row_sz' is not defined"
          ]
        }
      ]
    },
    {
      "metadata": {
        "id": "nRx4Zax2DFCK",
        "colab_type": "code",
        "colab": {
          "autoexec": {
            "startup": false,
            "wait_interval": 0
          },
          "output_extras": [
            {
              "item_id": 1
            }
          ],
          "base_uri": "https://localhost:8080/",
          "height": 164
        },
        "outputId": "003b662b-2e24-40cd-d60f-a12b729336ee",
        "executionInfo": {
          "status": "error",
          "timestamp": 1518725399786,
          "user_tz": -330,
          "elapsed": 793,
          "user": {
            "displayName": "Pursh manipal",
            "photoUrl": "//lh6.googleusercontent.com/-2tWDU08uTgw/AAAAAAAAAAI/AAAAAAAACnU/JgMeUOGKZeM/s50-c-k-no/photo.jpg",
            "userId": "113752929865705600262"
          }
        }
      },
      "cell_type": "code",
      "source": [
        "row_sz[:5]"
      ],
      "execution_count": 302,
      "outputs": [
        {
          "output_type": "error",
          "ename": "NameError",
          "evalue": "ignored",
          "traceback": [
            "\u001b[0;31m---------------------------------------------------------------------------\u001b[0m",
            "\u001b[0;31mNameError\u001b[0m                                 Traceback (most recent call last)",
            "\u001b[0;32m<ipython-input-302-5a9ca5cf4b06>\u001b[0m in \u001b[0;36m<module>\u001b[0;34m()\u001b[0m\n\u001b[0;32m----> 1\u001b[0;31m \u001b[0mrow_sz\u001b[0m\u001b[0;34m[\u001b[0m\u001b[0;34m:\u001b[0m\u001b[0;36m5\u001b[0m\u001b[0;34m]\u001b[0m\u001b[0;34m\u001b[0m\u001b[0m\n\u001b[0m",
            "\u001b[0;31mNameError\u001b[0m: name 'row_sz' is not defined"
          ]
        }
      ]
    },
    {
      "metadata": {
        "id": "v-HCSe6oDMQ3",
        "colab_type": "code",
        "colab": {
          "autoexec": {
            "startup": false,
            "wait_interval": 0
          },
          "output_extras": [
            {
              "item_id": 1
            }
          ],
          "base_uri": "https://localhost:8080/",
          "height": 164
        },
        "outputId": "a779c530-6fa2-458d-bbf6-cda31311f8e5",
        "executionInfo": {
          "status": "error",
          "timestamp": 1518725401220,
          "user_tz": -330,
          "elapsed": 888,
          "user": {
            "displayName": "Pursh manipal",
            "photoUrl": "//lh6.googleusercontent.com/-2tWDU08uTgw/AAAAAAAAAAI/AAAAAAAACnU/JgMeUOGKZeM/s50-c-k-no/photo.jpg",
            "userId": "113752929865705600262"
          }
        }
      },
      "cell_type": "code",
      "source": [
        "plt.hist(row_sz)"
      ],
      "execution_count": 303,
      "outputs": [
        {
          "output_type": "error",
          "ename": "NameError",
          "evalue": "ignored",
          "traceback": [
            "\u001b[0;31m---------------------------------------------------------------------------\u001b[0m",
            "\u001b[0;31mNameError\u001b[0m                                 Traceback (most recent call last)",
            "\u001b[0;32m<ipython-input-303-d22fc1355720>\u001b[0m in \u001b[0;36m<module>\u001b[0;34m()\u001b[0m\n\u001b[0;32m----> 1\u001b[0;31m \u001b[0mplt\u001b[0m\u001b[0;34m.\u001b[0m\u001b[0mhist\u001b[0m\u001b[0;34m(\u001b[0m\u001b[0mrow_sz\u001b[0m\u001b[0;34m)\u001b[0m\u001b[0;34m\u001b[0m\u001b[0m\n\u001b[0m",
            "\u001b[0;31mNameError\u001b[0m: name 'row_sz' is not defined"
          ]
        }
      ]
    },
    {
      "metadata": {
        "id": "bFlkseV9DSCX",
        "colab_type": "code",
        "colab": {
          "autoexec": {
            "startup": false,
            "wait_interval": 0
          },
          "output_extras": [
            {
              "item_id": 1
            }
          ],
          "base_uri": "https://localhost:8080/",
          "height": 164
        },
        "outputId": "3d80d959-056b-46f7-c965-1c38bf69c542",
        "executionInfo": {
          "status": "error",
          "timestamp": 1518725402554,
          "user_tz": -330,
          "elapsed": 794,
          "user": {
            "displayName": "Pursh manipal",
            "photoUrl": "//lh6.googleusercontent.com/-2tWDU08uTgw/AAAAAAAAAAI/AAAAAAAACnU/JgMeUOGKZeM/s50-c-k-no/photo.jpg",
            "userId": "113752929865705600262"
          }
        }
      },
      "cell_type": "code",
      "source": [
        "plt.hist(row_sz[row_sz<1000])"
      ],
      "execution_count": 304,
      "outputs": [
        {
          "output_type": "error",
          "ename": "NameError",
          "evalue": "ignored",
          "traceback": [
            "\u001b[0;31m---------------------------------------------------------------------------\u001b[0m",
            "\u001b[0;31mNameError\u001b[0m                                 Traceback (most recent call last)",
            "\u001b[0;32m<ipython-input-304-09cc6dc1335d>\u001b[0m in \u001b[0;36m<module>\u001b[0;34m()\u001b[0m\n\u001b[0;32m----> 1\u001b[0;31m \u001b[0mplt\u001b[0m\u001b[0;34m.\u001b[0m\u001b[0mhist\u001b[0m\u001b[0;34m(\u001b[0m\u001b[0mrow_sz\u001b[0m\u001b[0;34m[\u001b[0m\u001b[0mrow_sz\u001b[0m\u001b[0;34m<\u001b[0m\u001b[0;36m1000\u001b[0m\u001b[0;34m]\u001b[0m\u001b[0;34m)\u001b[0m\u001b[0;34m\u001b[0m\u001b[0m\n\u001b[0m",
            "\u001b[0;31mNameError\u001b[0m: name 'row_sz' is not defined"
          ]
        }
      ]
    },
    {
      "metadata": {
        "id": "ff530GZgDipd",
        "colab_type": "code",
        "colab": {
          "autoexec": {
            "startup": false,
            "wait_interval": 0
          }
        }
      },
      "cell_type": "code",
      "source": [
        "#initial model \n",
        "def get_data(sz,bs):\n",
        "  tfms = tfms_from_model(arch,sz,aug_tfms=transforms_side_on,max_zoom=1.1)\n",
        "  data=ImageClassifierData.from_csv(PATH, 'train',f'{PATH}labels.csv',test_name='test',num_workers=4,val_idxs=val_idxs,suffix='.jpg',tfms=tfms,bs=bs)\n",
        "  return data if sz>300 else data.resize(340,'tmp')"
      ],
      "execution_count": 0,
      "outputs": []
    },
    {
      "metadata": {
        "id": "11aZwXOKEk-y",
        "colab_type": "code",
        "colab": {
          "autoexec": {
            "startup": false,
            "wait_interval": 0
          },
          "output_extras": [
            {
              "item_id": 1
            },
            {
              "item_id": 2
            }
          ],
          "base_uri": "https://localhost:8080/",
          "height": 160
        },
        "outputId": "6d1960c9-7e67-4ce4-f448-b1c674af5800",
        "executionInfo": {
          "status": "ok",
          "timestamp": 1518725418013,
          "user_tz": -330,
          "elapsed": 1217,
          "user": {
            "displayName": "Pursh manipal",
            "photoUrl": "//lh6.googleusercontent.com/-2tWDU08uTgw/AAAAAAAAAAI/AAAAAAAACnU/JgMeUOGKZeM/s50-c-k-no/photo.jpg",
            "userId": "113752929865705600262"
          }
        }
      },
      "cell_type": "code",
      "source": [
        "data = get_data(sz,bs)\n"
      ],
      "execution_count": 306,
      "outputs": [
        {
          "output_type": "display_data",
          "data": {
            "application/vnd.jupyter.widget-view+json": {
              "model_id": "3de61c00d142446f919f5d73b372f7d1",
              "version_minor": 0,
              "version_major": 2
            },
            "text/html": [
              "<p>Failed to display Jupyter Widget of type <code>HBox</code>.</p>\n",
              "<p>\n",
              "  If you're reading this message in the Jupyter Notebook or JupyterLab Notebook, it may mean\n",
              "  that the widgets JavaScript is still loading. If this message persists, it\n",
              "  likely means that the widgets JavaScript library is either not installed or\n",
              "  not enabled. See the <a href=\"https://ipywidgets.readthedocs.io/en/stable/user_install.html\">Jupyter\n",
              "  Widgets Documentation</a> for setup instructions.\n",
              "</p>\n",
              "<p>\n",
              "  If you're reading this message in another frontend (for example, a static\n",
              "  rendering on GitHub or <a href=\"https://nbviewer.jupyter.org/\">NBViewer</a>),\n",
              "  it may mean that your frontend doesn't currently support widgets.\n",
              "</p>\n"
            ],
            "text/plain": [
              "HBox(children=(IntProgress(value=0, max=6), HTML(value='')))"
            ]
          },
          "metadata": {
            "tags": []
          }
        },
        {
          "output_type": "stream",
          "text": [
            "\n"
          ],
          "name": "stdout"
        }
      ]
    },
    {
      "metadata": {
        "id": "KBOYkaqFGL5M",
        "colab_type": "code",
        "colab": {
          "autoexec": {
            "startup": false,
            "wait_interval": 0
          },
          "output_extras": [
            {
              "item_id": 356
            }
          ],
          "base_uri": "https://localhost:8080/",
          "height": 68
        },
        "outputId": "3dca3745-0cab-4f1c-c0c7-5f9a98fd2f37",
        "executionInfo": {
          "status": "ok",
          "timestamp": 1518726051568,
          "user_tz": -330,
          "elapsed": 633419,
          "user": {
            "displayName": "Pursh manipal",
            "photoUrl": "//lh6.googleusercontent.com/-2tWDU08uTgw/AAAAAAAAAAI/AAAAAAAACnU/JgMeUOGKZeM/s50-c-k-no/photo.jpg",
            "userId": "113752929865705600262"
          }
        }
      },
      "cell_type": "code",
      "source": [
        "learn = ConvLearner.pretrained(arch,data, precompute=True)"
      ],
      "execution_count": 307,
      "outputs": [
        {
          "output_type": "stream",
          "text": [
            "100%|██████████| 141/141 [04:11<00:00,  1.78s/it]\n",
            "100%|██████████| 36/36 [01:02<00:00,  1.74s/it]\n",
            "100%|██████████| 179/179 [05:14<00:00,  1.76s/it]\n"
          ],
          "name": "stdout"
        }
      ]
    },
    {
      "metadata": {
        "id": "2rQN5k1EDhw4",
        "colab_type": "code",
        "colab": {
          "autoexec": {
            "startup": false,
            "wait_interval": 0
          },
          "output_extras": [
            {
              "item_id": 1
            },
            {
              "item_id": 16
            },
            {
              "item_id": 17
            }
          ],
          "base_uri": "https://localhost:8080/",
          "height": 245
        },
        "outputId": "0bbe9c2c-7233-4c7a-92ed-996506932e66",
        "executionInfo": {
          "status": "ok",
          "timestamp": 1518726067132,
          "user_tz": -330,
          "elapsed": 15522,
          "user": {
            "displayName": "Pursh manipal",
            "photoUrl": "//lh6.googleusercontent.com/-2tWDU08uTgw/AAAAAAAAAAI/AAAAAAAACnU/JgMeUOGKZeM/s50-c-k-no/photo.jpg",
            "userId": "113752929865705600262"
          }
        }
      },
      "cell_type": "code",
      "source": [
        "learn.fit(1e-2,5)"
      ],
      "execution_count": 308,
      "outputs": [
        {
          "output_type": "display_data",
          "data": {
            "application/vnd.jupyter.widget-view+json": {
              "model_id": "a9dd2cfd002c4dfa84f5df12299d917b",
              "version_minor": 0,
              "version_major": 2
            },
            "text/html": [
              "<p>Failed to display Jupyter Widget of type <code>HBox</code>.</p>\n",
              "<p>\n",
              "  If you're reading this message in the Jupyter Notebook or JupyterLab Notebook, it may mean\n",
              "  that the widgets JavaScript is still loading. If this message persists, it\n",
              "  likely means that the widgets JavaScript library is either not installed or\n",
              "  not enabled. See the <a href=\"https://ipywidgets.readthedocs.io/en/stable/user_install.html\">Jupyter\n",
              "  Widgets Documentation</a> for setup instructions.\n",
              "</p>\n",
              "<p>\n",
              "  If you're reading this message in another frontend (for example, a static\n",
              "  rendering on GitHub or <a href=\"https://nbviewer.jupyter.org/\">NBViewer</a>),\n",
              "  it may mean that your frontend doesn't currently support widgets.\n",
              "</p>\n"
            ],
            "text/plain": [
              "HBox(children=(IntProgress(value=0, description='Epoch', max=5), HTML(value='')))"
            ]
          },
          "metadata": {
            "tags": []
          }
        },
        {
          "output_type": "stream",
          "text": [
            "[0.      0.91475 0.41482 0.90374]\n",
            "[1.      0.43515 0.35111 0.91188]\n",
            "[2.      0.29851 0.30295 0.91283]\n",
            "[3.      0.2412  0.3499  0.91619]\n",
            " 75%|███████▌  | 106/141 [00:02<00:00, 45.37it/s, loss=0.204]"
          ],
          "name": "stdout"
        },
        {
          "output_type": "stream",
          "text": [
            "[4.      0.19597 0.28408 0.91667]\n",
            "\n"
          ],
          "name": "stdout"
        }
      ]
    },
    {
      "metadata": {
        "id": "t27YqZWaTsjs",
        "colab_type": "code",
        "colab": {
          "autoexec": {
            "startup": false,
            "wait_interval": 0
          }
        }
      },
      "cell_type": "code",
      "source": [
        "learn = ConvLearner.pretrained(arch, data, precompute=True,ps=0.5)"
      ],
      "execution_count": 0,
      "outputs": []
    },
    {
      "metadata": {
        "id": "LYl4ZR2WnXTC",
        "colab_type": "code",
        "colab": {
          "autoexec": {
            "startup": false,
            "wait_interval": 0
          },
          "output_extras": [
            {
              "item_id": 1
            },
            {
              "item_id": 8
            }
          ],
          "base_uri": "https://localhost:8080/",
          "height": 194
        },
        "outputId": "0674350b-19ed-46d9-f033-782e5b0aedf8",
        "executionInfo": {
          "status": "ok",
          "timestamp": 1518726078903,
          "user_tz": -330,
          "elapsed": 6606,
          "user": {
            "displayName": "Pursh manipal",
            "photoUrl": "//lh6.googleusercontent.com/-2tWDU08uTgw/AAAAAAAAAAI/AAAAAAAACnU/JgMeUOGKZeM/s50-c-k-no/photo.jpg",
            "userId": "113752929865705600262"
          }
        }
      },
      "cell_type": "code",
      "source": [
        "learn.fit(1e-2,2)"
      ],
      "execution_count": 310,
      "outputs": [
        {
          "output_type": "display_data",
          "data": {
            "application/vnd.jupyter.widget-view+json": {
              "model_id": "f543e8452c054481a7a55c7f98b0166b",
              "version_minor": 0,
              "version_major": 2
            },
            "text/html": [
              "<p>Failed to display Jupyter Widget of type <code>HBox</code>.</p>\n",
              "<p>\n",
              "  If you're reading this message in the Jupyter Notebook or JupyterLab Notebook, it may mean\n",
              "  that the widgets JavaScript is still loading. If this message persists, it\n",
              "  likely means that the widgets JavaScript library is either not installed or\n",
              "  not enabled. See the <a href=\"https://ipywidgets.readthedocs.io/en/stable/user_install.html\">Jupyter\n",
              "  Widgets Documentation</a> for setup instructions.\n",
              "</p>\n",
              "<p>\n",
              "  If you're reading this message in another frontend (for example, a static\n",
              "  rendering on GitHub or <a href=\"https://nbviewer.jupyter.org/\">NBViewer</a>),\n",
              "  it may mean that your frontend doesn't currently support widgets.\n",
              "</p>\n"
            ],
            "text/plain": [
              "HBox(children=(IntProgress(value=0, description='Epoch', max=2), HTML(value='')))"
            ]
          },
          "metadata": {
            "tags": []
          }
        },
        {
          "output_type": "stream",
          "text": [
            "[0.      1.14753 0.44911 0.90182]\n",
            "[1.      0.54667 0.31257 0.92146]\n",
            "\n"
          ],
          "name": "stdout"
        }
      ]
    },
    {
      "metadata": {
        "id": "L8KGo44E3Ed8",
        "colab_type": "code",
        "colab": {
          "autoexec": {
            "startup": false,
            "wait_interval": 0
          }
        }
      },
      "cell_type": "code",
      "source": [
        "learn.precompute=False"
      ],
      "execution_count": 0,
      "outputs": []
    },
    {
      "metadata": {
        "id": "1O8pLcA93L-c",
        "colab_type": "code",
        "colab": {
          "autoexec": {
            "startup": false,
            "wait_interval": 0
          },
          "output_extras": [
            {
              "item_id": 1
            },
            {
              "item_id": 698
            },
            {
              "item_id": 999
            }
          ],
          "base_uri": "https://localhost:8080/",
          "height": 245
        },
        "outputId": "38993afe-01ac-4e50-eb44-b36f2493021d",
        "executionInfo": {
          "status": "ok",
          "timestamp": 1518727640107,
          "user_tz": -330,
          "elapsed": 1558822,
          "user": {
            "displayName": "Pursh manipal",
            "photoUrl": "//lh6.googleusercontent.com/-2tWDU08uTgw/AAAAAAAAAAI/AAAAAAAACnU/JgMeUOGKZeM/s50-c-k-no/photo.jpg",
            "userId": "113752929865705600262"
          }
        }
      },
      "cell_type": "code",
      "source": [
        "learn.fit(1e-2,5,cycle_len=1)"
      ],
      "execution_count": 312,
      "outputs": [
        {
          "output_type": "display_data",
          "data": {
            "application/vnd.jupyter.widget-view+json": {
              "model_id": "d2b9d31186b04c868730c8629aa9ca06",
              "version_minor": 0,
              "version_major": 2
            },
            "text/html": [
              "<p>Failed to display Jupyter Widget of type <code>HBox</code>.</p>\n",
              "<p>\n",
              "  If you're reading this message in the Jupyter Notebook or JupyterLab Notebook, it may mean\n",
              "  that the widgets JavaScript is still loading. If this message persists, it\n",
              "  likely means that the widgets JavaScript library is either not installed or\n",
              "  not enabled. See the <a href=\"https://ipywidgets.readthedocs.io/en/stable/user_install.html\">Jupyter\n",
              "  Widgets Documentation</a> for setup instructions.\n",
              "</p>\n",
              "<p>\n",
              "  If you're reading this message in another frontend (for example, a static\n",
              "  rendering on GitHub or <a href=\"https://nbviewer.jupyter.org/\">NBViewer</a>),\n",
              "  it may mean that your frontend doesn't currently support widgets.\n",
              "</p>\n"
            ],
            "text/plain": [
              "HBox(children=(IntProgress(value=0, description='Epoch', max=5), HTML(value='')))"
            ]
          },
          "metadata": {
            "tags": []
          }
        },
        {
          "output_type": "stream",
          "text": [
            "[0.      0.45589 0.26385 0.92816]\n",
            "[1.      0.42145 0.25324 0.92768]\n",
            "[2.      0.38815 0.2406  0.93199]\n",
            " 43%|████▎     | 60/141 [01:49<02:27,  1.82s/it, loss=0.377]"
          ],
          "name": "stdout"
        },
        {
          "output_type": "stream",
          "text": [
            "[3.      0.36226 0.23389 0.93056]\n",
            "[4.      0.33665 0.23508 0.92577]\n",
            "\n"
          ],
          "name": "stdout"
        }
      ]
    },
    {
      "metadata": {
        "id": "ag9b9pzux3SC",
        "colab_type": "code",
        "colab": {
          "autoexec": {
            "startup": false,
            "wait_interval": 0
          },
          "output_extras": [
            {
              "item_id": 1
            },
            {
              "item_id": 705
            }
          ],
          "base_uri": "https://localhost:8080/",
          "height": 211
        },
        "outputId": "aae4a76e-baab-45ed-9cf3-d365794d575d",
        "executionInfo": {
          "status": "ok",
          "timestamp": 1518728575333,
          "user_tz": -330,
          "elapsed": 935175,
          "user": {
            "displayName": "Pursh manipal",
            "photoUrl": "//lh6.googleusercontent.com/-2tWDU08uTgw/AAAAAAAAAAI/AAAAAAAACnU/JgMeUOGKZeM/s50-c-k-no/photo.jpg",
            "userId": "113752929865705600262"
          }
        }
      },
      "cell_type": "code",
      "source": [
        "learn.fit(1e-2,3,cycle_len=1)"
      ],
      "execution_count": 313,
      "outputs": [
        {
          "output_type": "display_data",
          "data": {
            "application/vnd.jupyter.widget-view+json": {
              "model_id": "4b0cfa9a93334acd877d27e898f8e28e",
              "version_minor": 0,
              "version_major": 2
            },
            "text/html": [
              "<p>Failed to display Jupyter Widget of type <code>HBox</code>.</p>\n",
              "<p>\n",
              "  If you're reading this message in the Jupyter Notebook or JupyterLab Notebook, it may mean\n",
              "  that the widgets JavaScript is still loading. If this message persists, it\n",
              "  likely means that the widgets JavaScript library is either not installed or\n",
              "  not enabled. See the <a href=\"https://ipywidgets.readthedocs.io/en/stable/user_install.html\">Jupyter\n",
              "  Widgets Documentation</a> for setup instructions.\n",
              "</p>\n",
              "<p>\n",
              "  If you're reading this message in another frontend (for example, a static\n",
              "  rendering on GitHub or <a href=\"https://nbviewer.jupyter.org/\">NBViewer</a>),\n",
              "  it may mean that your frontend doesn't currently support widgets.\n",
              "</p>\n"
            ],
            "text/plain": [
              "HBox(children=(IntProgress(value=0, description='Epoch', max=3), HTML(value='')))"
            ]
          },
          "metadata": {
            "tags": []
          }
        },
        {
          "output_type": "stream",
          "text": [
            "[0.      0.32488 0.2288  0.92816]\n",
            "[1.      0.30236 0.2268  0.92768]\n",
            "[2.      0.27472 0.22514 0.9272 ]\n",
            "\n"
          ],
          "name": "stdout"
        }
      ]
    },
    {
      "metadata": {
        "id": "pR6wuroe0KmA",
        "colab_type": "code",
        "colab": {
          "autoexec": {
            "startup": false,
            "wait_interval": 0
          }
        }
      },
      "cell_type": "code",
      "source": [
        "learn.save('224_pre')\n"
      ],
      "execution_count": 0,
      "outputs": []
    },
    {
      "metadata": {
        "id": "bs5jJGHyYYWr",
        "colab_type": "code",
        "colab": {
          "autoexec": {
            "startup": false,
            "wait_interval": 0
          }
        }
      },
      "cell_type": "code",
      "source": [
        "learn.load('224_pre')"
      ],
      "execution_count": 0,
      "outputs": []
    },
    {
      "metadata": {
        "id": "mrjNyevsQEMe",
        "colab_type": "code",
        "colab": {
          "autoexec": {
            "startup": false,
            "wait_interval": 0
          },
          "output_extras": [
            {
              "item_id": 1
            },
            {
              "item_id": 2
            }
          ],
          "base_uri": "https://localhost:8080/",
          "height": 160
        },
        "outputId": "a242eb05-9377-4cf0-81a1-3e87347c9a0c",
        "executionInfo": {
          "status": "ok",
          "timestamp": 1518728580660,
          "user_tz": -330,
          "elapsed": 1523,
          "user": {
            "displayName": "Pursh manipal",
            "photoUrl": "//lh6.googleusercontent.com/-2tWDU08uTgw/AAAAAAAAAAI/AAAAAAAACnU/JgMeUOGKZeM/s50-c-k-no/photo.jpg",
            "userId": "113752929865705600262"
          }
        }
      },
      "cell_type": "code",
      "source": [
        "learn.set_data(get_data(299,bs))\n",
        "learn.freeze()\n"
      ],
      "execution_count": 316,
      "outputs": [
        {
          "output_type": "display_data",
          "data": {
            "application/vnd.jupyter.widget-view+json": {
              "model_id": "eff7b5ca4ac94ac7a716308ee29f2977",
              "version_minor": 0,
              "version_major": 2
            },
            "text/html": [
              "<p>Failed to display Jupyter Widget of type <code>HBox</code>.</p>\n",
              "<p>\n",
              "  If you're reading this message in the Jupyter Notebook or JupyterLab Notebook, it may mean\n",
              "  that the widgets JavaScript is still loading. If this message persists, it\n",
              "  likely means that the widgets JavaScript library is either not installed or\n",
              "  not enabled. See the <a href=\"https://ipywidgets.readthedocs.io/en/stable/user_install.html\">Jupyter\n",
              "  Widgets Documentation</a> for setup instructions.\n",
              "</p>\n",
              "<p>\n",
              "  If you're reading this message in another frontend (for example, a static\n",
              "  rendering on GitHub or <a href=\"https://nbviewer.jupyter.org/\">NBViewer</a>),\n",
              "  it may mean that your frontend doesn't currently support widgets.\n",
              "</p>\n"
            ],
            "text/plain": [
              "HBox(children=(IntProgress(value=0, max=6), HTML(value='')))"
            ]
          },
          "metadata": {
            "tags": []
          }
        },
        {
          "output_type": "stream",
          "text": [
            "\n"
          ],
          "name": "stdout"
        }
      ]
    },
    {
      "metadata": {
        "id": "E_6PgtxO5F7_",
        "colab_type": "code",
        "colab": {
          "autoexec": {
            "startup": false,
            "wait_interval": 0
          },
          "output_extras": [
            {
              "item_id": 1
            },
            {
              "item_id": 558
            }
          ],
          "base_uri": "https://localhost:8080/",
          "height": 211
        },
        "outputId": "3ea5e251-96d2-44ef-8584-80e45a348b1b",
        "executionInfo": {
          "status": "ok",
          "timestamp": 1518730289455,
          "user_tz": -330,
          "elapsed": 1708226,
          "user": {
            "displayName": "Pursh manipal",
            "photoUrl": "//lh6.googleusercontent.com/-2tWDU08uTgw/AAAAAAAAAAI/AAAAAAAACnU/JgMeUOGKZeM/s50-c-k-no/photo.jpg",
            "userId": "113752929865705600262"
          }
        }
      },
      "cell_type": "code",
      "source": [
        "learn.fit(1e-2,3,cycle_len=1)\n"
      ],
      "execution_count": 317,
      "outputs": [
        {
          "output_type": "display_data",
          "data": {
            "application/vnd.jupyter.widget-view+json": {
              "model_id": "f6b525f2131a48dcadeefa3fd1b549ec",
              "version_minor": 0,
              "version_major": 2
            },
            "text/html": [
              "<p>Failed to display Jupyter Widget of type <code>HBox</code>.</p>\n",
              "<p>\n",
              "  If you're reading this message in the Jupyter Notebook or JupyterLab Notebook, it may mean\n",
              "  that the widgets JavaScript is still loading. If this message persists, it\n",
              "  likely means that the widgets JavaScript library is either not installed or\n",
              "  not enabled. See the <a href=\"https://ipywidgets.readthedocs.io/en/stable/user_install.html\">Jupyter\n",
              "  Widgets Documentation</a> for setup instructions.\n",
              "</p>\n",
              "<p>\n",
              "  If you're reading this message in another frontend (for example, a static\n",
              "  rendering on GitHub or <a href=\"https://nbviewer.jupyter.org/\">NBViewer</a>),\n",
              "  it may mean that your frontend doesn't currently support widgets.\n",
              "</p>\n"
            ],
            "text/plain": [
              "HBox(children=(IntProgress(value=0, description='Epoch', max=3), HTML(value='')))"
            ]
          },
          "metadata": {
            "tags": []
          }
        },
        {
          "output_type": "stream",
          "text": [
            "[0.      0.30297 0.22079 0.9272 ]\n",
            "[1.      0.28582 0.21704 0.9296 ]\n",
            "[2.      0.2616  0.21333 0.93343]\n",
            "\n"
          ],
          "name": "stdout"
        }
      ]
    },
    {
      "metadata": {
        "id": "xjEw6K3h5Hr7",
        "colab_type": "code",
        "colab": {
          "autoexec": {
            "startup": false,
            "wait_interval": 0
          },
          "output_extras": [
            {
              "item_id": 1
            },
            {
              "item_id": 665
            },
            {
              "item_id": 1283
            },
            {
              "item_id": 1366
            }
          ],
          "base_uri": "https://localhost:8080/",
          "height": 279
        },
        "outputId": "61ecf7cc-10b5-4a60-8ecc-a9b893eb2946",
        "executionInfo": {
          "status": "ok",
          "timestamp": 1518736440880,
          "user_tz": -330,
          "elapsed": 4010024,
          "user": {
            "displayName": "Pursh manipal",
            "photoUrl": "//lh6.googleusercontent.com/-2tWDU08uTgw/AAAAAAAAAAI/AAAAAAAACnU/JgMeUOGKZeM/s50-c-k-no/photo.jpg",
            "userId": "113752929865705600262"
          }
        }
      },
      "cell_type": "code",
      "source": [
        "learn.fit(1e-2,3,cycle_len=1,cycle_mult=2)\n"
      ],
      "execution_count": 319,
      "outputs": [
        {
          "output_type": "display_data",
          "data": {
            "application/vnd.jupyter.widget-view+json": {
              "model_id": "0f58e521cbb34396910d0e7b4a9e59a3",
              "version_minor": 0,
              "version_major": 2
            },
            "text/html": [
              "<p>Failed to display Jupyter Widget of type <code>HBox</code>.</p>\n",
              "<p>\n",
              "  If you're reading this message in the Jupyter Notebook or JupyterLab Notebook, it may mean\n",
              "  that the widgets JavaScript is still loading. If this message persists, it\n",
              "  likely means that the widgets JavaScript library is either not installed or\n",
              "  not enabled. See the <a href=\"https://ipywidgets.readthedocs.io/en/stable/user_install.html\">Jupyter\n",
              "  Widgets Documentation</a> for setup instructions.\n",
              "</p>\n",
              "<p>\n",
              "  If you're reading this message in another frontend (for example, a static\n",
              "  rendering on GitHub or <a href=\"https://nbviewer.jupyter.org/\">NBViewer</a>),\n",
              "  it may mean that your frontend doesn't currently support widgets.\n",
              "</p>\n"
            ],
            "text/plain": [
              "HBox(children=(IntProgress(value=0, description='Epoch', max=7), HTML(value='')))"
            ]
          },
          "metadata": {
            "tags": []
          }
        },
        {
          "output_type": "stream",
          "text": [
            "[0.      0.24699 0.20844 0.93151]\n",
            "[1.      0.2514  0.21616 0.9296 ]\n",
            "[2.      0.22306 0.21041 0.93295]\n",
            " 43%|████▎     | 60/141 [03:20<04:30,  3.34s/it, loss=0.222]"
          ],
          "name": "stdout"
        },
        {
          "output_type": "stream",
          "text": [
            "[3.      0.23865 0.21098 0.93056]\n",
            "[4.      0.21477 0.20804 0.93439]\n",
            "[5.      0.19727 0.20743 0.93199]\n",
            " 59%|█████▉    | 83/141 [04:30<03:09,  3.26s/it, loss=0.194]"
          ],
          "name": "stdout"
        },
        {
          "output_type": "stream",
          "text": [
            "[6.      0.18372 0.2064  0.93391]\n",
            "\n"
          ],
          "name": "stdout"
        }
      ]
    },
    {
      "metadata": {
        "id": "NeMPEz0r5M5p",
        "colab_type": "code",
        "colab": {
          "autoexec": {
            "startup": false,
            "wait_interval": 0
          },
          "output_extras": [
            {
              "item_id": 5
            },
            {
              "item_id": 6
            }
          ],
          "base_uri": "https://localhost:8080/",
          "height": 34
        },
        "outputId": "efa4ce8b-fa28-4baa-91b2-db1797125537",
        "executionInfo": {
          "status": "ok",
          "timestamp": 1518737009425,
          "user_tz": -330,
          "elapsed": 568519,
          "user": {
            "displayName": "Pursh manipal",
            "photoUrl": "//lh6.googleusercontent.com/-2tWDU08uTgw/AAAAAAAAAAI/AAAAAAAACnU/JgMeUOGKZeM/s50-c-k-no/photo.jpg",
            "userId": "113752929865705600262"
          }
        }
      },
      "cell_type": "code",
      "source": [
        "log_preds,y = learn.TTA()\n",
        "probs = np.exp(log_preds)\n",
        "accuracy(log_preds,y),metrics.log_loss(y,probs)\n"
      ],
      "execution_count": 320,
      "outputs": [
        {
          "output_type": "stream",
          "text": [
            ""
          ],
          "name": "stdout"
        },
        {
          "output_type": "execute_result",
          "data": {
            "text/plain": [
              "(0.9383561643835616, 0.19883894320245182)"
            ]
          },
          "metadata": {
            "tags": []
          },
          "execution_count": 320
        }
      ]
    },
    {
      "metadata": {
        "id": "hWRxjNdX5QT3",
        "colab_type": "code",
        "colab": {
          "autoexec": {
            "startup": false,
            "wait_interval": 0
          }
        }
      },
      "cell_type": "code",
      "source": [
        "learn.save('299_pre')\n",
        "learn.load('299_pre')\n"
      ],
      "execution_count": 0,
      "outputs": []
    },
    {
      "metadata": {
        "id": "p01fkhYb5TTm",
        "colab_type": "code",
        "colab": {
          "autoexec": {
            "startup": false,
            "wait_interval": 0
          },
          "output_extras": [
            {
              "item_id": 1
            },
            {
              "item_id": 395
            }
          ],
          "base_uri": "https://localhost:8080/",
          "height": 194
        },
        "outputId": "d7832776-a826-4d6a-d0fa-e0386077962f",
        "executionInfo": {
          "status": "ok",
          "timestamp": 1518738257927,
          "user_tz": -330,
          "elapsed": 1137900,
          "user": {
            "displayName": "Pursh manipal",
            "photoUrl": "//lh6.googleusercontent.com/-2tWDU08uTgw/AAAAAAAAAAI/AAAAAAAACnU/JgMeUOGKZeM/s50-c-k-no/photo.jpg",
            "userId": "113752929865705600262"
          }
        }
      },
      "cell_type": "code",
      "source": [
        "learn.fit(1e-2,1,cycle_len=2)\n",
        "\n"
      ],
      "execution_count": 323,
      "outputs": [
        {
          "output_type": "display_data",
          "data": {
            "application/vnd.jupyter.widget-view+json": {
              "model_id": "46b865a3c24f4fa1860b7937390947ca",
              "version_minor": 0,
              "version_major": 2
            },
            "text/html": [
              "<p>Failed to display Jupyter Widget of type <code>HBox</code>.</p>\n",
              "<p>\n",
              "  If you're reading this message in the Jupyter Notebook or JupyterLab Notebook, it may mean\n",
              "  that the widgets JavaScript is still loading. If this message persists, it\n",
              "  likely means that the widgets JavaScript library is either not installed or\n",
              "  not enabled. See the <a href=\"https://ipywidgets.readthedocs.io/en/stable/user_install.html\">Jupyter\n",
              "  Widgets Documentation</a> for setup instructions.\n",
              "</p>\n",
              "<p>\n",
              "  If you're reading this message in another frontend (for example, a static\n",
              "  rendering on GitHub or <a href=\"https://nbviewer.jupyter.org/\">NBViewer</a>),\n",
              "  it may mean that your frontend doesn't currently support widgets.\n",
              "</p>\n"
            ],
            "text/plain": [
              "HBox(children=(IntProgress(value=0, description='Epoch', max=2), HTML(value='')))"
            ]
          },
          "metadata": {
            "tags": []
          }
        },
        {
          "output_type": "stream",
          "text": [
            "[0.      0.20062 0.21159 0.93295]\n",
            "[1.      0.18526 0.20883 0.92864]\n",
            "\n"
          ],
          "name": "stdout"
        }
      ]
    },
    {
      "metadata": {
        "id": "7kmhfQQp-i4y",
        "colab_type": "code",
        "colab": {
          "autoexec": {
            "startup": false,
            "wait_interval": 0
          }
        }
      },
      "cell_type": "code",
      "source": [
        "learn.save('299_pre')"
      ],
      "execution_count": 0,
      "outputs": []
    },
    {
      "metadata": {
        "id": "gk2HLLf_5Vun",
        "colab_type": "code",
        "colab": {
          "autoexec": {
            "startup": false,
            "wait_interval": 0
          },
          "output_extras": [
            {
              "item_id": 5
            },
            {
              "item_id": 6
            }
          ],
          "base_uri": "https://localhost:8080/",
          "height": 34
        },
        "outputId": "b905d66c-1d77-4164-9e95-7c1cd81f15e8",
        "executionInfo": {
          "status": "ok",
          "timestamp": 1518738965068,
          "user_tz": -330,
          "elapsed": 572961,
          "user": {
            "displayName": "Pursh manipal",
            "photoUrl": "//lh6.googleusercontent.com/-2tWDU08uTgw/AAAAAAAAAAI/AAAAAAAACnU/JgMeUOGKZeM/s50-c-k-no/photo.jpg",
            "userId": "113752929865705600262"
          }
        }
      },
      "cell_type": "code",
      "source": [
        "log_preds,y = learn.TTA()\n",
        "probs= np.exp(log_preds)\n",
        "accuracy(log_preds,y),metrics.log_loss(y,probs)\n",
        "\n"
      ],
      "execution_count": 325,
      "outputs": [
        {
          "output_type": "stream",
          "text": [
            ""
          ],
          "name": "stdout"
        },
        {
          "output_type": "execute_result",
          "data": {
            "text/plain": [
              "(0.9339530332681018, 0.20234849747546)"
            ]
          },
          "metadata": {
            "tags": []
          },
          "execution_count": 325
        }
      ]
    },
    {
      "metadata": {
        "id": "zOwRRXvK5Xwz",
        "colab_type": "code",
        "colab": {
          "autoexec": {
            "startup": false,
            "wait_interval": 0
          }
        }
      },
      "cell_type": "code",
      "source": [
        ""
      ],
      "execution_count": 0,
      "outputs": []
    }
  ]
}